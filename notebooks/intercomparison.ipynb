{
 "cells": [
  {
   "cell_type": "code",
   "execution_count": null,
   "metadata": {
    "collapsed": false
   },
   "outputs": [],
   "source": [
    "import pymc3 as pm\n",
    "import numpy as np\n",
    "import theano\n",
    "import seaborn\n",
    "import matplotlib.pyplot as plt\n",
    "seaborn.set_context('poster')\n",
    "seaborn.set_style('white')\n",
    "seaborn.set(color_codes=True)\n",
    "\n",
    "%matplotlib inline\n"
   ]
  },
  {
   "cell_type": "code",
   "execution_count": null,
   "metadata": {
    "collapsed": false
   },
   "outputs": [
    {
     "name": "stdout",
     "output_type": "stream",
     "text": [
      "Applied log-transform to sd1 and added transformed sd1_log_ to model.\n",
      "Applied log-transform to sd2 and added transformed sd2_log_ to model.\n"
     ]
    }
   ],
   "source": [
    "loc1 = 10\n",
    "scale1 = 1\n",
    "size1 = 4\n",
    "\n",
    "loc2 = 12\n",
    "scale2 = 3\n",
    "size2 = 6\n",
    "\n",
    "sample1 = np.random.normal(loc=loc1, scale=scale1, size=size1)\n",
    "sample2 = np.random.normal(loc=loc2, scale=scale2, size=size2)\n",
    "\n",
    "with pm.Model() as model:\n",
    "    mu1 = pm.Flat('mu1')\n",
    "    sd1 = pm.Exponential('sd1', lam=1)\n",
    "    data1 = pm.Normal('data1', mu=mu1, sd=sd1, observed=sample1)\n",
    "\n",
    "    mu2 = pm.Flat('mu2')\n",
    "    sd2 = pm.Exponential('sd2', lam=1)\n",
    "    data2 = pm.Normal('data2', mu=mu2, sd=sd2, observed=sample2)\n",
    "    \n",
    "    diff_mu = pm.Deterministic('diff_mu', mu2 - mu1)\n",
    "    diff_sd = pm.Deterministic('diff_sd', sd2 - sd1)\n",
    "    effect_size = pm.Deterministic('effect size',\n",
    "                                    diff_mu / pm.sqrt((sd1**2 + sd2**2) / 2))"
   ]
  },
  {
   "cell_type": "code",
   "execution_count": null,
   "metadata": {
    "collapsed": false
   },
   "outputs": [
    {
     "data": {
      "text/plain": [
       "array([  9.71410169,  10.29397882,   9.33954445,   8.63682836])"
      ]
     },
     "execution_count": 3,
     "metadata": {},
     "output_type": "execute_result"
    }
   ],
   "source": [
    "sample1"
   ]
  },
  {
   "cell_type": "code",
   "execution_count": null,
   "metadata": {
    "collapsed": false
   },
   "outputs": [
    {
     "data": {
      "text/plain": [
       "array([  7.91867675,  16.98018875,  10.75915916,   9.66822114,\n",
       "        14.99650241,  14.85511423])"
      ]
     },
     "execution_count": 4,
     "metadata": {},
     "output_type": "execute_result"
    }
   ],
   "source": [
    "sample2"
   ]
  },
  {
   "cell_type": "code",
   "execution_count": null,
   "metadata": {
    "collapsed": false
   },
   "outputs": [],
   "source": [
    "with model:\n",
    "    params = pm.variational.advi(n=100000)\n",
    "    trace = pm.variational.sample_vp(params, draws=5000)"
   ]
  },
  {
   "cell_type": "code",
   "execution_count": null,
   "metadata": {
    "collapsed": false
   },
   "outputs": [],
   "source": [
    "pm.traceplot(trace[200:])"
   ]
  },
  {
   "cell_type": "code",
   "execution_count": null,
   "metadata": {
    "collapsed": false
   },
   "outputs": [],
   "source": [
    "pm.plot_posterior(trace[200:], varnames=['diff_mu', 'diff_sd', 'effect size'], color='#87ceeb')"
   ]
  },
  {
   "cell_type": "code",
   "execution_count": null,
   "metadata": {
    "collapsed": false
   },
   "outputs": [],
   "source": [
    "pm.plot_posterior(trace[200:], varnames=['mu1', 'mu2', 'sd1', 'sd2'], color='#87ceeb',)"
   ]
  },
  {
   "cell_type": "code",
   "execution_count": null,
   "metadata": {
    "collapsed": true
   },
   "outputs": [],
   "source": []
  }
 ],
 "metadata": {
  "anaconda-cloud": {},
  "kernelspec": {
   "display_name": "Python [Root]",
   "language": "python",
   "name": "Python [Root]"
  },
  "language_info": {
   "codemirror_mode": {
    "name": "ipython",
    "version": 3
   },
   "file_extension": ".py",
   "mimetype": "text/x-python",
   "name": "python",
   "nbconvert_exporter": "python",
   "pygments_lexer": "ipython3",
   "version": "3.5.2"
  }
 },
 "nbformat": 4,
 "nbformat_minor": 0
}
