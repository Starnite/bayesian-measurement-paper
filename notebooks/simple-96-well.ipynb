{
 "cells": [
  {
   "cell_type": "code",
   "execution_count": 269,
   "metadata": {
    "collapsed": true
   },
   "outputs": [],
   "source": [
    "import pymc3 as pm\n",
    "import numpy as np\n",
    "import matplotlib.pyplot as plt\n",
    "import seaborn as sns\n",
    "\n",
    "sns.set_context('poster')\n",
    "sns.set_style('white')\n",
    "%matplotlib inline"
   ]
  },
  {
   "cell_type": "markdown",
   "metadata": {},
   "source": [
    "# Simulation Data\n",
    "\n",
    "In systematically measuring genotype-phenotype data, how will the data be collected, stored and analyzed? Is a small laptop enough to model the fold change calculations locally? I explore this in the following notebook."
   ]
  },
  {
   "cell_type": "code",
   "execution_count": 270,
   "metadata": {
    "collapsed": false
   },
   "outputs": [],
   "source": [
    "# Set n_genotypes > 1000 to obtain estimates of variance in error as a function of num_measurements\n",
    "# Set n_genotypes < 15 to obtain diagnostic plots (traceplot) and comparison of modelled to actual.\n",
    "# You've been forewarned - for the diagnostics and modelled, plotting with > 100 takes a while...\n",
    "n_genotypes = 2000\n",
    "\n",
    "means = np.random.exponential(scale=0.5, size=n_genotypes)\n",
    "sds = np.random.random(size=n_genotypes)\n",
    "num_measurements = np.random.randint(low=2, high=9, size=n_genotypes)\n",
    "\n",
    "# Create simulated data.\n",
    "data = []\n",
    "indices = []\n",
    "\n",
    "for i in range(n_genotypes):\n",
    "    n = num_measurements[i]\n",
    "    mean = means[i]\n",
    "    sd = sds[i]\n",
    "    \n",
    "    measurements = np.random.normal(loc=mean, scale=sd, size=n)\n",
    "    \n",
    "    data.extend(measurements.tolist())\n",
    "    indices.extend([i] * n)\n",
    "    \n",
    "n_ctrl_measures = 15\n",
    "data.extend(np.random.normal(loc=1.0, scale=0.5, size=n_ctrl_measures))\n",
    "indices.extend([n_genotypes] * n_ctrl_measures)\n",
    "num_measurements = np.append(num_measurements, n_ctrl_measures)\n",
    "means = np.append(means, 1.0)"
   ]
  },
  {
   "cell_type": "code",
   "execution_count": 271,
   "metadata": {
    "collapsed": false
   },
   "outputs": [
    {
     "data": {
      "text/plain": [
       "array([ 0.0271835 ,  0.8439903 ,  0.49684691, ...,  0.32045277,\n",
       "        0.02347665,  1.        ])"
      ]
     },
     "execution_count": 271,
     "metadata": {},
     "output_type": "execute_result"
    }
   ],
   "source": [
    "means"
   ]
  },
  {
   "cell_type": "code",
   "execution_count": 272,
   "metadata": {
    "collapsed": false
   },
   "outputs": [
    {
     "data": {
      "text/plain": [
       "array([ 5,  8,  4, ...,  6,  6, 15])"
      ]
     },
     "execution_count": 272,
     "metadata": {},
     "output_type": "execute_result"
    }
   ],
   "source": [
    "num_measurements"
   ]
  },
  {
   "cell_type": "code",
   "execution_count": 273,
   "metadata": {
    "collapsed": false
   },
   "outputs": [
    {
     "data": {
      "text/plain": [
       "(10167, 10167)"
      ]
     },
     "execution_count": 273,
     "metadata": {},
     "output_type": "execute_result"
    }
   ],
   "source": [
    "len(data), len(indices)"
   ]
  },
  {
   "cell_type": "code",
   "execution_count": 274,
   "metadata": {
    "collapsed": false
   },
   "outputs": [
    {
     "name": "stdout",
     "output_type": "stream",
     "text": [
      "Applied log-transform to fold_tau and added transformed fold_tau_log_ to model.\n",
      "Applied log-transform to fold and added transformed fold_log_ to model.\n",
      "Applied log-transform to sigma and added transformed sigma_log_ to model.\n"
     ]
    }
   ],
   "source": [
    "with pm.Model() as model:\n",
    "    # Hyperpriors\n",
    "    # fold_mu = pm.Flat('fold_mu')\n",
    "    # fold_sd = pm.HalfCauchy('fold_sd', 100)\n",
    "    # fold_alpha = pm.Flat('fold_alpha')\n",
    "    # fold_beta = pm.Flat('fold_beta')\n",
    "    fold_tau = pm.HalfCauchy('fold_tau', 10)\n",
    "\n",
    "    # \"Intercept\", which is basically the measurement values.\n",
    "    # fold = pm.Gamma('fold', alpha=1, beta=2, shape=n_genotypes+1)\n",
    "    fold = pm.HalfNormal('fold', tau=fold_tau, shape=n_genotypes+1)\n",
    "    \n",
    "    # Assume that data have heteroskedastic (i.e. variable) error but are drawn from the same distribution\n",
    "    sigma = pm.Gamma('sigma', alpha=1, beta=1, shape=n_genotypes+1)\n",
    "    \n",
    "    # Model prediction\n",
    "    mu = fold[indices]\n",
    "    sig = sigma[indices]\n",
    "    \n",
    "    # Data likelihood\n",
    "    like = pm.Normal('like', mu=mu, sd=sig, observed=data)"
   ]
  },
  {
   "cell_type": "code",
   "execution_count": 275,
   "metadata": {
    "collapsed": false,
    "scrolled": true
   },
   "outputs": [
    {
     "name": "stdout",
     "output_type": "stream",
     "text": [
      "Iteration 0 [0%]: ELBO = -64698.03\n",
      "Iteration 20000 [10%]: Average ELBO = -14824.03\n",
      "Iteration 40000 [20%]: Average ELBO = -10354.94\n",
      "Iteration 60000 [30%]: Average ELBO = -9911.03\n",
      "Iteration 80000 [40%]: Average ELBO = -9838.62\n",
      "Iteration 100000 [50%]: Average ELBO = -9816.24\n",
      "Iteration 120000 [60%]: Average ELBO = -9815.85\n",
      "Iteration 140000 [70%]: Average ELBO = -9811.21\n",
      "Iteration 160000 [80%]: Average ELBO = -9812.39\n",
      "Iteration 180000 [90%]: Average ELBO = -9806.08\n",
      "Finished [100%]: Average ELBO = -9808.47\n",
      "CPU times: user 4min 3s, sys: 2.05 s, total: 4min 5s\n",
      "Wall time: 4min 8s\n"
     ]
    }
   ],
   "source": [
    "%%time\n",
    "with model:\n",
    "    params = pm.variational.advi(n=200000)\n",
    "    trace = pm.variational.sample_vp(params, draws=2000)"
   ]
  },
  {
   "cell_type": "code",
   "execution_count": 276,
   "metadata": {
    "collapsed": false
   },
   "outputs": [],
   "source": [
    "if n_genotypes <= 10:\n",
    "    fig = plt.figure()\n",
    "    pm.forestplot(trace, vline=1, varnames=['fold'])\n",
    "    fig = plt.figure()\n",
    "    pm.forestplot(trace, varnames=['sigma'])"
   ]
  },
  {
   "cell_type": "code",
   "execution_count": 277,
   "metadata": {
    "collapsed": false,
    "scrolled": false
   },
   "outputs": [],
   "source": [
    "if n_genotypes <= 10:\n",
    "    pm.summary(trace)"
   ]
  },
  {
   "cell_type": "code",
   "execution_count": 278,
   "metadata": {
    "collapsed": false,
    "scrolled": true
   },
   "outputs": [],
   "source": [
    "if n_genotypes <= 10:\n",
    "    pm.traceplot(trace, varnames=['fold', 'sigma'])"
   ]
  },
  {
   "cell_type": "markdown",
   "metadata": {},
   "source": [
    "# Error in Estimated Mean\n",
    "\n",
    "What is the error in estimated mean as a function of the number of measurements?"
   ]
  },
  {
   "cell_type": "code",
   "execution_count": 279,
   "metadata": {
    "collapsed": false
   },
   "outputs": [
    {
     "data": {
      "text/plain": [
       "array([ 5,  8,  4, ...,  6,  6, 15])"
      ]
     },
     "execution_count": 279,
     "metadata": {},
     "output_type": "execute_result"
    }
   ],
   "source": [
    "num_measurements"
   ]
  },
  {
   "cell_type": "code",
   "execution_count": 280,
   "metadata": {
    "collapsed": false
   },
   "outputs": [
    {
     "data": {
      "text/plain": [
       "array([ 0.22915645, -0.00117636,  0.01578248, ...,  0.22283943,\n",
       "        0.14299514, -0.12522628])"
      ]
     },
     "execution_count": 280,
     "metadata": {},
     "output_type": "execute_result"
    }
   ],
   "source": [
    "trace['fold'].mean(axis=0) - means"
   ]
  },
  {
   "cell_type": "code",
   "execution_count": 281,
   "metadata": {
    "collapsed": false
   },
   "outputs": [
    {
     "data": {
      "text/html": [
       "<div>\n",
       "<table border=\"1\" class=\"dataframe\">\n",
       "  <thead>\n",
       "    <tr style=\"text-align: right;\">\n",
       "      <th></th>\n",
       "      <th>num_measurements</th>\n",
       "      <th>error_means</th>\n",
       "    </tr>\n",
       "  </thead>\n",
       "  <tbody>\n",
       "    <tr>\n",
       "      <th>0</th>\n",
       "      <td>5.0</td>\n",
       "      <td>0.229156</td>\n",
       "    </tr>\n",
       "    <tr>\n",
       "      <th>1</th>\n",
       "      <td>8.0</td>\n",
       "      <td>-0.001176</td>\n",
       "    </tr>\n",
       "    <tr>\n",
       "      <th>2</th>\n",
       "      <td>4.0</td>\n",
       "      <td>0.015782</td>\n",
       "    </tr>\n",
       "    <tr>\n",
       "      <th>3</th>\n",
       "      <td>6.0</td>\n",
       "      <td>-0.341817</td>\n",
       "    </tr>\n",
       "    <tr>\n",
       "      <th>4</th>\n",
       "      <td>2.0</td>\n",
       "      <td>0.112732</td>\n",
       "    </tr>\n",
       "  </tbody>\n",
       "</table>\n",
       "</div>"
      ],
      "text/plain": [
       "   num_measurements  error_means\n",
       "0               5.0     0.229156\n",
       "1               8.0    -0.001176\n",
       "2               4.0     0.015782\n",
       "3               6.0    -0.341817\n",
       "4               2.0     0.112732"
      ]
     },
     "execution_count": 281,
     "metadata": {},
     "output_type": "execute_result"
    }
   ],
   "source": [
    "import pandas as pd\n",
    "errors_df = pd.DataFrame([num_measurements, (trace['fold'].mean(axis=0) - means)]).T\n",
    "errors_df.columns = ['num_measurements', 'error_means']\n",
    "errors_df.head()"
   ]
  },
  {
   "cell_type": "code",
   "execution_count": 282,
   "metadata": {
    "collapsed": false
   },
   "outputs": [
    {
     "data": {
      "image/png": "[encoded data removed]",
      "text/plain": [
       "<matplotlib.figure.Figure at 0x1212f79e8>"
      ]
     },
     "metadata": {},
     "output_type": "display_data"
    },
    {
     "data": {
      "image/png": "[encoded data removed]",
      "text/plain": [
       "<matplotlib.figure.Figure at 0x1210c2390>"
      ]
     },
     "metadata": {},
     "output_type": "display_data"
    }
   ],
   "source": [
    "if n_genotypes >= 500:\n",
    "    sns.boxplot(data=errors_df, x='num_measurements', y='error_means')\n",
    "    errors_df.groupby('num_measurements').var().plot(legend=False)\n",
    "    plt.ylabel('var(error)')"
   ]
  },
  {
   "cell_type": "code",
   "execution_count": 283,
   "metadata": {
    "collapsed": false
   },
   "outputs": [
    {
     "data": {
      "text/plain": [
       "0.047747370272495801"
      ]
     },
     "execution_count": 283,
     "metadata": {},
     "output_type": "execute_result"
    }
   ],
   "source": [
    "(trace['fold'].mean(axis=0) - means).mean()"
   ]
  },
  {
   "cell_type": "code",
   "execution_count": 284,
   "metadata": {
    "collapsed": false
   },
   "outputs": [],
   "source": [
    "if n_genotypes <= 10:\n",
    "    pm.traceplot(trace, varnames=['fold'])"
   ]
  },
  {
   "cell_type": "markdown",
   "metadata": {
    "collapsed": true
   },
   "source": [
    "# Compare modelled to actual"
   ]
  },
  {
   "cell_type": "code",
   "execution_count": 285,
   "metadata": {
    "collapsed": false
   },
   "outputs": [
    {
     "data": {
      "text/plain": [
       "array([ 0.25633996,  0.84281394,  0.51262939, ...,  0.5432922 ,\n",
       "        0.1664718 ,  0.87477372])"
      ]
     },
     "execution_count": 285,
     "metadata": {},
     "output_type": "execute_result"
    }
   ],
   "source": [
    "trace['fold'].mean(axis=0)"
   ]
  },
  {
   "cell_type": "code",
   "execution_count": 286,
   "metadata": {
    "collapsed": false
   },
   "outputs": [],
   "source": [
    "if n_genotypes <= 10:\n",
    "    fig = plt.figure()\n",
    "    ax = fig.add_subplot(111)\n",
    "    lower = trace['fold'].mean(axis=0) - np.percentile(trace['fold'], 2.5, axis=0)\n",
    "    upper = np.percentile(trace['fold'], 97.5, axis=0) - trace['fold'].mean(axis=0)\n",
    "    yerr_pos = [lower, upper]\n",
    "    ax.errorbar(x=np.arange(1, n_genotypes+2), y=trace['fold'].mean(axis=0), \n",
    "                # y-error bars\n",
    "                yerr=yerr_pos,\n",
    "                # styling\n",
    "                color='blue', ls='none', alpha=0.5, label='95% HPD',)\n",
    "    ax.scatter(x=np.arange(1, n_genotypes+2), y=means, \n",
    "               # styling\n",
    "               color=['red'] * 10 + ['green'], marker='o', s=100, label='actual',)\n",
    "    ax.legend(loc='best', frameon=False)\n",
    "    ax.hlines(xmin=0, xmax=n_genotypes+1, y=1, linestyles='--', alpha=0.2)\n",
    "    ax.hlines(xmin=0, xmax=n_genotypes+1, y=0, alpha=0.2)\n",
    "    ax.set_xlabel('genotype ID')\n",
    "    ax.set_ylabel('fold change')\n",
    "    ax.set_xlim(-2, n_genotypes+2)"
   ]
  },
  {
   "cell_type": "code",
   "execution_count": 287,
   "metadata": {
    "collapsed": false
   },
   "outputs": [
    {
     "name": "stdout",
     "output_type": "stream",
     "text": [
      "just for checking the above plot...\n"
     ]
    }
   ],
   "source": [
    "if n_genotypes <= 10:\n",
    "    fig = plt.figure()\n",
    "    pm.forestplot(trace, vline=1, varnames=['fold'])\n",
    "print('just for checking the above plot...')"
   ]
  },
  {
   "cell_type": "code",
   "execution_count": null,
   "metadata": {
    "collapsed": true
   },
   "outputs": [],
   "source": []
  },
  {
   "cell_type": "code",
   "execution_count": null,
   "metadata": {
    "collapsed": true
   },
   "outputs": [],
   "source": []
  }
 ],
 "metadata": {
  "anaconda-cloud": {},
  "kernelspec": {
   "display_name": "Python [Root]",
   "language": "python",
   "name": "Python [Root]"
  },
  "language_info": {
   "codemirror_mode": {
    "name": "ipython",
    "version": 3
   },
   "file_extension": ".py",
   "mimetype": "text/x-python",
   "name": "python",
   "nbconvert_exporter": "python",
   "pygments_lexer": "ipython3",
   "version": "3.5.2"
  }
 },
 "nbformat": 4,
 "nbformat_minor": 0
}
