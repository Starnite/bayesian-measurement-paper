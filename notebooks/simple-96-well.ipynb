{
 "cells": [
  {
   "cell_type": "code",
   "execution_count": 26,
   "metadata": {
    "collapsed": false
   },
   "outputs": [
    {
     "name": "stdout",
     "output_type": "stream",
     "text": [
      "The autoreload extension is already loaded. To reload it, use:\n",
      "  %reload_ext autoreload\n"
     ]
    }
   ],
   "source": [
    "import pymc3 as pm\n",
    "import numpy as np\n",
    "import matplotlib.pyplot as plt\n",
    "import seaborn as sns\n",
    "\n",
    "from model import make_simulated_data, make_model, sample_model, plot_forestplots\n",
    "\n",
    "sns.set_context('poster')\n",
    "sns.set_style('white')\n",
    "%matplotlib inline\n",
    "\n",
    "%load_ext autoreload\n",
    "%autoreload 2"
   ]
  },
  {
   "cell_type": "markdown",
   "metadata": {},
   "source": [
    "# Simulation Data\n",
    "\n",
    "In systematically measuring genotype-phenotype data, how will the data be collected, stored and analyzed? Is a small laptop enough to model the fold change calculations locally? I explore this in the following notebook."
   ]
  },
  {
   "cell_type": "code",
   "execution_count": 27,
   "metadata": {
    "collapsed": false
   },
   "outputs": [],
   "source": [
    "# Set n_genotypes > 1000 to obtain estimates of variance in error as a function of num_measurements\n",
    "# Set n_genotypes < 15 to obtain diagnostic plots (traceplot) and comparison of modelled to actual.\n",
    "# You've been forewarned - for the diagnostics and modelled, plotting with > 100 takes a while...\n",
    "n_genotypes = 100\n",
    "n_reps = 2  # number of replicate measurements per sample\n",
    "\n",
    "sim_data = make_simulated_data(n_genotypes=n_genotypes, n_reps=n_reps)\n",
    "data, indices, num_measurements, means, sds = sim_data"
   ]
  },
  {
   "cell_type": "code",
   "execution_count": 28,
   "metadata": {
    "collapsed": false
   },
   "outputs": [
    {
     "data": {
      "text/plain": [
       "0.8439554255902848"
      ]
     },
     "execution_count": 28,
     "metadata": {},
     "output_type": "execute_result"
    }
   ],
   "source": [
    "# Compute the \"actual\" Z'-factor for the assay.\n",
    "zp_det = 1 - (3 * sds[-2] + 3 * sds[-1]) / np.abs(means[-2] - means[-1])\n",
    "zp_det"
   ]
  },
  {
   "cell_type": "code",
   "execution_count": 29,
   "metadata": {
    "collapsed": false
   },
   "outputs": [
    {
     "name": "stdout",
     "output_type": "stream",
     "text": [
      "Applied log-transform to upper and added transformed upper_log_ to model.\n",
      "Applied interval-transform to fold and added transformed fold_interval_ to model.\n",
      "Applied log-transform to sigma and added transformed sigma_log_ to model.\n"
     ]
    }
   ],
   "source": [
    "model = make_model(n_genotypes, data, indices)"
   ]
  },
  {
   "cell_type": "code",
   "execution_count": 30,
   "metadata": {
    "collapsed": false,
    "scrolled": true
   },
   "outputs": [
    {
     "name": "stdout",
     "output_type": "stream",
     "text": [
      "Iteration 0 [0%]: ELBO = -946128.15\n",
      "Iteration 20000 [10%]: Average ELBO = -122427.67\n",
      "Iteration 40000 [20%]: Average ELBO = -1068.32\n",
      "Iteration 60000 [30%]: Average ELBO = -983.39\n",
      "Iteration 80000 [40%]: Average ELBO = -957.43\n",
      "Iteration 100000 [50%]: Average ELBO = -951.18\n",
      "Iteration 120000 [60%]: Average ELBO = -946.84\n",
      "Iteration 140000 [70%]: Average ELBO = -940.35\n",
      "Iteration 160000 [80%]: Average ELBO = -933.36\n",
      "Iteration 180000 [90%]: Average ELBO = -930.22\n",
      "Finished [100%]: Average ELBO = -928.07\n",
      "CPU times: user 36.9 s, sys: 184 ms, total: 37 s\n",
      "Wall time: 37.3 s\n"
     ]
    }
   ],
   "source": [
    "%%time\n",
    "\n",
    "trace = sample_model(model, n_genotypes)"
   ]
  },
  {
   "cell_type": "code",
   "execution_count": 32,
   "metadata": {
    "collapsed": false,
    "scrolled": false
   },
   "outputs": [],
   "source": [
    "if n_genotypes <= 15:\n",
    "    plot_forestplots(trace)"
   ]
  },
  {
   "cell_type": "code",
   "execution_count": 33,
   "metadata": {
    "collapsed": false,
    "scrolled": false
   },
   "outputs": [],
   "source": [
    "if n_genotypes <= 15:\n",
    "    pm.summary(trace)"
   ]
  },
  {
   "cell_type": "code",
   "execution_count": 34,
   "metadata": {
    "collapsed": false,
    "scrolled": false
   },
   "outputs": [],
   "source": [
    "if n_genotypes <= 15:\n",
    "    pm.traceplot(trace)"
   ]
  },
  {
   "cell_type": "markdown",
   "metadata": {},
   "source": [
    "# Error in Estimated Mean\n",
    "\n",
    "What is the error in estimated mean as a function of the number of measurements?"
   ]
  },
  {
   "cell_type": "code",
   "execution_count": 35,
   "metadata": {
    "collapsed": false
   },
   "outputs": [
    {
     "data": {
      "text/plain": [
       "array([2, 2, 2, 2, 2, 2, 2, 2, 2, 2, 2, 2, 2, 2, 2, 2, 2, 2, 2, 2, 2, 2, 2,\n",
       "       2, 2, 2, 2, 2, 2, 2, 2, 2, 2, 2, 2, 2, 2, 2, 2, 2, 2, 2, 2, 2, 2, 2,\n",
       "       2, 2, 2, 2, 2, 2, 2, 2, 2, 2, 2, 2, 2, 2, 2, 2, 2, 2, 2, 2, 2, 2, 2,\n",
       "       2, 2, 2, 2, 2, 2, 2, 2, 2, 2, 2, 2, 2, 2, 2, 2, 2, 2, 2, 2, 2, 2, 2,\n",
       "       2, 2, 2, 2, 2, 2, 2, 2, 2, 2])"
      ]
     },
     "execution_count": 35,
     "metadata": {},
     "output_type": "execute_result"
    }
   ],
   "source": [
    "num_measurements"
   ]
  },
  {
   "cell_type": "code",
   "execution_count": 36,
   "metadata": {
    "collapsed": false
   },
   "outputs": [
    {
     "data": {
      "text/plain": [
       "array([ -3.67455835e+00,   2.12931496e-01,  -1.39167131e+01,\n",
       "         4.70389358e+00,  -5.99498289e+00,  -2.55767265e-01,\n",
       "         1.37366414e-01,  -1.28481404e+00,  -2.15132752e+00,\n",
       "        -2.84016935e+00,  -1.47892775e+01,  -1.22912773e+01,\n",
       "        -2.15774168e+00,   7.82286723e-01,   3.57671447e+00,\n",
       "        -5.92961589e+00,   3.41591480e+00,   2.81770965e+00,\n",
       "        -5.78997072e+00,   5.10219290e-01,  -1.01140987e+01,\n",
       "        -4.30995882e+00,   2.81125709e+00,  -2.36645582e+00,\n",
       "        -1.57191483e+00,  -3.08904214e-01,  -1.84834031e-01,\n",
       "         8.33206147e-01,   3.44533004e+00,   1.07924639e+00,\n",
       "        -2.92910157e-01,   3.97760978e-01,   3.59805726e-01,\n",
       "        -1.00793435e+01,   6.85705497e-01,  -6.44473464e+00,\n",
       "        -8.68677432e-01,   1.83912738e+00,   2.94912069e-02,\n",
       "        -1.17212392e+00,  -2.30296823e+00,  -2.94360717e+00,\n",
       "        -1.29971587e+01,   8.92216668e+00,  -3.95183698e-01,\n",
       "         3.05124458e+00,   1.73390877e+00,  -1.55848217e-01,\n",
       "        -1.45733106e-02,   1.90538334e+00,  -7.78968226e-01,\n",
       "        -4.04315651e-01,  -1.04575241e+01,   9.25217414e+00,\n",
       "         6.93037238e-01,   8.36212995e+00,   2.99118496e-01,\n",
       "        -1.95827098e+00,  -3.46990707e+00,   3.59860867e-01,\n",
       "        -3.64445999e+00,  -3.13740853e+00,   3.50322662e-01,\n",
       "         6.87637985e-01,  -2.65027557e+00,  -5.67071343e-01,\n",
       "         4.58111183e-01,   5.10893625e-01,  -3.12547883e-01,\n",
       "        -6.59015256e+00,   1.83039751e-01,   5.82324814e+00,\n",
       "         4.12945300e-01,  -3.13209281e+00,  -5.59147242e-02,\n",
       "        -8.71394811e+00,  -4.52343753e+00,   3.16540149e-01,\n",
       "         2.34231293e+00,   3.62197724e-02,   1.61420912e+00,\n",
       "        -1.63645805e+00,  -1.18402899e+01,  -8.24830118e+00,\n",
       "        -2.39568695e+00,   4.66984725e-01,  -2.28122719e+00,\n",
       "         1.15501604e+00,  -1.28614228e+01,   1.72101315e-01,\n",
       "         2.55513911e-01,   9.83965858e+00,  -4.81380413e-01,\n",
       "         6.26908863e-01,   3.12474135e+00,   4.42932151e+00,\n",
       "        -3.71567355e-01,  -1.74226894e+00,  -1.79463613e+00,\n",
       "        -3.41465926e-01,   1.04673042e-02,   1.03027617e-01])"
      ]
     },
     "execution_count": 36,
     "metadata": {},
     "output_type": "execute_result"
    }
   ],
   "source": [
    "trace['fold'].mean(axis=0) - means"
   ]
  },
  {
   "cell_type": "code",
   "execution_count": 37,
   "metadata": {
    "collapsed": false
   },
   "outputs": [
    {
     "data": {
      "text/html": [
       "<div>\n",
       "<table border=\"1\" class=\"dataframe\">\n",
       "  <thead>\n",
       "    <tr style=\"text-align: right;\">\n",
       "      <th></th>\n",
       "      <th>num_measurements</th>\n",
       "      <th>error_means</th>\n",
       "    </tr>\n",
       "  </thead>\n",
       "  <tbody>\n",
       "    <tr>\n",
       "      <th>0</th>\n",
       "      <td>2.0</td>\n",
       "      <td>-3.674558</td>\n",
       "    </tr>\n",
       "    <tr>\n",
       "      <th>1</th>\n",
       "      <td>2.0</td>\n",
       "      <td>0.212931</td>\n",
       "    </tr>\n",
       "    <tr>\n",
       "      <th>2</th>\n",
       "      <td>2.0</td>\n",
       "      <td>-13.916713</td>\n",
       "    </tr>\n",
       "    <tr>\n",
       "      <th>3</th>\n",
       "      <td>2.0</td>\n",
       "      <td>4.703894</td>\n",
       "    </tr>\n",
       "    <tr>\n",
       "      <th>4</th>\n",
       "      <td>2.0</td>\n",
       "      <td>-5.994983</td>\n",
       "    </tr>\n",
       "  </tbody>\n",
       "</table>\n",
       "</div>"
      ],
      "text/plain": [
       "   num_measurements  error_means\n",
       "0               2.0    -3.674558\n",
       "1               2.0     0.212931\n",
       "2               2.0   -13.916713\n",
       "3               2.0     4.703894\n",
       "4               2.0    -5.994983"
      ]
     },
     "execution_count": 37,
     "metadata": {},
     "output_type": "execute_result"
    }
   ],
   "source": [
    "import pandas as pd\n",
    "errors_df = pd.DataFrame([num_measurements, (trace['fold'].mean(axis=0) - means)]).T\n",
    "errors_df.columns = ['num_measurements', 'error_means']\n",
    "errors_df.head()"
   ]
  },
  {
   "cell_type": "code",
   "execution_count": 38,
   "metadata": {
    "collapsed": false
   },
   "outputs": [],
   "source": [
    "if n_genotypes >= 500:\n",
    "    sns.boxplot(data=errors_df, x='num_measurements', y='error_means')\n",
    "    errors_df.groupby('num_measurements').var().plot(legend=False)\n",
    "    plt.ylabel('var(error)')"
   ]
  },
  {
   "cell_type": "code",
   "execution_count": 39,
   "metadata": {
    "collapsed": false
   },
   "outputs": [
    {
     "data": {
      "text/plain": [
       "-1.2436695917196776"
      ]
     },
     "execution_count": 39,
     "metadata": {},
     "output_type": "execute_result"
    }
   ],
   "source": [
    "(trace['fold'].mean(axis=0) - means).mean()"
   ]
  },
  {
   "cell_type": "code",
   "execution_count": 42,
   "metadata": {
    "collapsed": false
   },
   "outputs": [],
   "source": [
    "if n_genotypes <= 15:\n",
    "    plt.figure()\n",
    "    pm.traceplot(trace, varnames=['fold'])\n",
    "    plt.figure()"
   ]
  },
  {
   "cell_type": "markdown",
   "metadata": {},
   "source": [
    "# Compare modelled to actual"
   ]
  },
  {
   "cell_type": "code",
   "execution_count": 43,
   "metadata": {
    "collapsed": false
   },
   "outputs": [
    {
     "data": {
      "text/plain": [
       "array([ 75.32544165,  62.2129315 ,  42.08328689,  67.70389358,\n",
       "        24.00501711,  41.74423273,  32.13736641,  46.71518596,\n",
       "        53.84867248,  71.15983065,  70.21072245,  86.7087227 ,\n",
       "        63.84225832,  21.78228672,  46.57671447,  28.07038411,\n",
       "        29.4159148 ,  53.81770965,  16.21002928,  90.51021929,\n",
       "        81.88590128,  27.69004118,  64.81125709,  58.63354418,\n",
       "        21.42808517,  22.69109579,  88.81516597,  17.83320615,\n",
       "        58.44533004,  51.07924639,  68.70708984,  47.39776098,\n",
       "        16.35980573,  88.92065646,  79.6857055 ,  89.55526536,\n",
       "        30.13132257,  18.83912738,  75.02949121,  52.82787608,\n",
       "        28.69703177,  78.05639283,  76.00284126,  24.92216668,\n",
       "        63.6048163 ,  27.05124458,  51.73390877,  59.84415178,\n",
       "        76.98542669,  27.90538334,  65.22103177,  37.59568435,\n",
       "        88.54247588,  59.25217414,  85.69303724,  34.36212995,\n",
       "        35.2991185 ,  26.04172902,  37.53009293,  45.35986087,\n",
       "        56.35554001,  14.86259147,  88.35032266,  64.68763798,\n",
       "        24.34972443,  41.43292866,  70.45811118,  42.51089362,\n",
       "        59.68745212,  18.40984744,  36.18303975,  51.82324814,\n",
       "        88.4129453 ,  57.86790719,  50.94408528,  20.28605189,\n",
       "        84.47656247,  57.31654015,  76.34231293,  23.03621977,\n",
       "        37.61420912,  40.36354195,  33.15971008,  88.75169882,\n",
       "        76.60431305,  79.46698473,  20.71877281,  50.15501604,\n",
       "         6.13857717,  30.17210131,  58.25551391,  82.83965858,\n",
       "        49.51861959,  78.62690886,  29.12474135,  35.42932151,\n",
       "        47.62843264,  66.25773106,  39.20536387,  68.65853407,\n",
       "         0.89198239,  21.17539367])"
      ]
     },
     "execution_count": 43,
     "metadata": {},
     "output_type": "execute_result"
    }
   ],
   "source": [
    "trace['fold'].mean(axis=0)"
   ]
  },
  {
   "cell_type": "code",
   "execution_count": 44,
   "metadata": {
    "collapsed": false
   },
   "outputs": [
    {
     "data": {
      "text/plain": [
       "(102,)"
      ]
     },
     "execution_count": 44,
     "metadata": {},
     "output_type": "execute_result"
    }
   ],
   "source": [
    "trace['fold'].mean(axis=0).shape"
   ]
  },
  {
   "cell_type": "code",
   "execution_count": 45,
   "metadata": {
    "collapsed": false
   },
   "outputs": [
    {
     "data": {
      "text/plain": [
       "(102,)"
      ]
     },
     "execution_count": 45,
     "metadata": {},
     "output_type": "execute_result"
    }
   ],
   "source": [
    "np.arange(1, n_genotypes+3).shape"
   ]
  },
  {
   "cell_type": "code",
   "execution_count": 46,
   "metadata": {
    "collapsed": false
   },
   "outputs": [],
   "source": [
    "if n_genotypes <= 15:\n",
    "    fig = plt.figure()\n",
    "    ax = fig.add_subplot(111)\n",
    "    lower = trace['fold'].mean(axis=0) - np.percentile(trace['fold'], 2.5, axis=0)\n",
    "    upper = np.percentile(trace['fold'], 97.5, axis=0) - trace['fold'].mean(axis=0)\n",
    "    yerr_pos = [lower, upper]\n",
    "    ax.errorbar(x=np.arange(1, n_genotypes+3), y=trace['fold'].mean(axis=0), \n",
    "                # y-error bars\n",
    "                yerr=yerr_pos,\n",
    "                # styling\n",
    "                color='blue', ls='none', alpha=0.5, label='modeled',)\n",
    "    ax.scatter(x=np.arange(1, n_genotypes+3), y=means, \n",
    "               # styling\n",
    "               color=['red'] * (n_genotypes) + ['green'] + ['blue'], marker='o', s=100, label='true mean',)\n",
    "    ax.errorbar(x=np.arange(1, n_genotypes+3), y=means,\n",
    "               yerr=sds,\n",
    "               color='red', ls='none', alpha=0.5, label='true var')\n",
    "    ax.legend(loc='upper left', frameon=False)\n",
    "    ax.hlines(xmin=0, xmax=n_genotypes+3, y=trace['fold'].mean(axis=0)[-2], linestyles='--', alpha=0.2)\n",
    "    ax.hlines(xmin=0, xmax=n_genotypes+3, y=trace['fold'].mean(axis=0)[-1], alpha=0.2)\n",
    "    ax.set_xlabel('genotype ID')\n",
    "    ax.set_ylabel('fold change')\n",
    "    # ax.set_xlim(, n_genotypes+2)"
   ]
  },
  {
   "cell_type": "code",
   "execution_count": 47,
   "metadata": {
    "collapsed": false
   },
   "outputs": [
    {
     "name": "stdout",
     "output_type": "stream",
     "text": [
      "just for checking the above plot...\n"
     ]
    }
   ],
   "source": [
    "if n_genotypes <= 15:\n",
    "    fig = plt.figure()\n",
    "    pm.forestplot(trace, vline=1, varnames=['fold'])\n",
    "print('just for checking the above plot...')"
   ]
  },
  {
   "cell_type": "markdown",
   "metadata": {},
   "source": [
    "How often is the true mean inside the 95% HPD?"
   ]
  },
  {
   "cell_type": "code",
   "execution_count": 48,
   "metadata": {
    "collapsed": false
   },
   "outputs": [
    {
     "data": {
      "text/plain": [
       "(array([ 58.66078594,  55.64490455,  39.63898813,  59.40574657,\n",
       "         20.206472  ,  33.43112384,  31.82636551,  45.14410895,\n",
       "         49.69970741,  66.78789246,  66.15605941,  67.15038651,\n",
       "         52.61618447,  17.44872481,  44.10356664,  23.02879769,\n",
       "         28.30304837,  51.01745304,  12.54043065,  87.75075772,\n",
       "         65.86538517,  23.89601449,  63.90646695,  56.37548887,\n",
       "         21.19833438,  20.16332709,  85.00799472,  15.32515614,\n",
       "         47.10587765,  48.3822574 ,  67.1742246 ,  42.58780124,\n",
       "         10.89555392,  75.58725565,  78.84259489,  79.53367447,\n",
       "         19.93324172,  16.31535406,  74.58478733,  49.4559607 ,\n",
       "         22.12501652,  75.53665406,  70.24919032,  14.82925614,\n",
       "         60.94519814,  19.08703105,  50.30028766,  50.99891725,\n",
       "         76.47779185,  21.31552495,  52.21644629,  33.47181841,\n",
       "         75.74977962,  56.42019101,  83.67312482,  29.03222373,\n",
       "         31.37565606,  15.54964841,  31.2043672 ,  44.40934284,\n",
       "         53.30432401,  10.93326007,  85.55706049,  60.66308912,\n",
       "         21.76983363,  39.17336625,  69.26277285,  41.94074106,\n",
       "         56.79580939,  16.8374019 ,  35.60866109,  45.68548139,\n",
       "         83.80193278,  38.86981301,  46.17020232,  18.53789273,\n",
       "         72.44195256,  55.30521969,  67.76988025,  21.74188483,\n",
       "         29.33334347,  25.38584205,  30.75629651,  73.05495536,\n",
       "         72.51397643,  78.13240708,  18.7941977 ,  46.79172936,\n",
       "          2.08955279,  29.13352048,  57.86339194,  66.05919465,\n",
       "         47.98026732,  77.71394561,  15.05661388,  28.27912858,\n",
       "         40.17220868,  65.27279032,  37.64207041,  65.19831805,\n",
       "          0.74191535,  19.07387861]),\n",
       " array([ 86.25051386,  68.13815079,  44.58385932,  74.90470646,\n",
       "         28.24187344,  50.14811144,  32.44595179,  48.29028841,\n",
       "         58.24506761,  75.16537695,  73.89263432,  92.31198487,\n",
       "         73.75727411,  26.4594272 ,  48.99809256,  33.46996388,\n",
       "         30.54343404,  56.50630812,  20.53108954,  91.90635162,\n",
       "         89.82049372,  31.82777836,  65.69119353,  60.70489266,\n",
       "         21.66683789,  25.3929985 ,  91.13858595,  20.49926822,\n",
       "         68.96494434,  53.81310054,  70.21858344,  51.91312716,\n",
       "         23.00687705,  92.4489782 ,  80.49544413,  92.44688476,\n",
       "         42.62860869,  21.49681883,  75.47839195,  56.20265628,\n",
       "         35.65976166,  80.34460305,  80.70652558,  37.22434529,\n",
       "         66.08614854,  35.70794273,  53.15307666,  67.6582639 ,\n",
       "         77.47522977,  35.77334841,  75.76430549,  42.13022104,\n",
       "         92.36300351,  61.87704775,  87.39152481,  39.80966098,\n",
       "         39.36334665,  38.66863995,  44.22943854,  46.32318648,\n",
       "         59.56655082,  19.34210238,  90.15863973,  68.38899403,\n",
       "         26.91407038,  43.61865356,  71.62847994,  43.06588278,\n",
       "         62.483968  ,  20.10171075,  36.79253479,  57.97274531,\n",
       "         90.94791862,  74.52152568,  55.7076054 ,  22.19310496,\n",
       "         90.47998981,  59.28212398,  82.64755714,  24.31557499,\n",
       "         45.93550358,  57.77594614,  35.62562185,  92.42695218,\n",
       "         79.98968127,  80.79200908,  22.74201575,  53.58487936,\n",
       "         13.14398549,  31.22194407,  58.65383568,  90.38012502,\n",
       "         50.97401923,  79.4973285 ,  46.29233379,  43.22904924,\n",
       "         54.77829117,  67.20475327,  40.79916418,  72.03837235,\n",
       "          1.05728733,  23.43500882]))"
      ]
     },
     "execution_count": 48,
     "metadata": {},
     "output_type": "execute_result"
    }
   ],
   "source": [
    "lower, upper = np.percentile(trace['fold'], [2.5, 97.5], axis=0)\n",
    "lower, upper"
   ]
  },
  {
   "cell_type": "code",
   "execution_count": 49,
   "metadata": {
    "collapsed": false
   },
   "outputs": [
    {
     "data": {
      "text/plain": [
       "array([ 79.        ,  62.        ,  56.        ,  63.        ,\n",
       "        30.        ,  42.        ,  32.        ,  48.        ,\n",
       "        56.        ,  74.        ,  85.        ,  99.        ,\n",
       "        66.        ,  21.        ,  43.        ,  34.        ,\n",
       "        26.        ,  51.        ,  22.        ,  90.        ,\n",
       "        92.        ,  32.        ,  62.        ,  61.        ,\n",
       "        23.        ,  23.        ,  89.        ,  17.        ,\n",
       "        55.        ,  50.        ,  69.        ,  47.        ,\n",
       "        16.        ,  99.        ,  79.        ,  96.        ,\n",
       "        31.        ,  17.        ,  75.        ,  54.        ,\n",
       "        31.        ,  81.        ,  89.        ,  16.        ,\n",
       "        64.        ,  24.        ,  50.        ,  60.        ,\n",
       "        77.        ,  26.        ,  66.        ,  38.        ,\n",
       "        99.        ,  50.        ,  85.        ,  26.        ,\n",
       "        35.        ,  28.        ,  41.        ,  45.        ,\n",
       "        60.        ,  18.        ,  88.        ,  64.        ,\n",
       "        27.        ,  42.        ,  70.        ,  42.        ,\n",
       "        60.        ,  25.        ,  36.        ,  46.        ,\n",
       "        88.        ,  61.        ,  51.        ,  29.        ,\n",
       "        89.        ,  57.        ,  74.        ,  23.        ,\n",
       "        36.        ,  42.        ,  45.        ,  97.        ,\n",
       "        79.        ,  79.        ,  23.        ,  49.        ,\n",
       "        19.        ,  30.        ,  58.        ,  73.        ,\n",
       "        50.        ,  78.        ,  26.        ,  31.        ,\n",
       "        48.        ,  68.        ,  41.        ,  69.        ,\n",
       "         0.88151508,  21.07236605])"
      ]
     },
     "execution_count": 49,
     "metadata": {},
     "output_type": "execute_result"
    }
   ],
   "source": [
    "means"
   ]
  },
  {
   "cell_type": "code",
   "execution_count": 50,
   "metadata": {
    "collapsed": false
   },
   "outputs": [
    {
     "data": {
      "text/plain": [
       "0.68627450980392157"
      ]
     },
     "execution_count": 50,
     "metadata": {},
     "output_type": "execute_result"
    }
   ],
   "source": [
    "# Here is the fraction of means that have been correctly included within the 95% HPD.\n",
    "sum((means > lower) *  (means < upper)) / len(means)"
   ]
  },
  {
   "cell_type": "code",
   "execution_count": null,
   "metadata": {
    "collapsed": true
   },
   "outputs": [],
   "source": []
  }
 ],
 "metadata": {
  "anaconda-cloud": {},
  "kernelspec": {
   "display_name": "Python [Root]",
   "language": "python",
   "name": "Python [Root]"
  },
  "language_info": {
   "codemirror_mode": {
    "name": "ipython",
    "version": 3
   },
   "file_extension": ".py",
   "mimetype": "text/x-python",
   "name": "python",
   "nbconvert_exporter": "python",
   "pygments_lexer": "ipython3",
   "version": "3.5.2"
  }
 },
 "nbformat": 4,
 "nbformat_minor": 0
}
