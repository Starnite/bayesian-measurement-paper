{
 "cells": [
  {
   "cell_type": "code",
   "execution_count": 20,
   "metadata": {
    "collapsed": false
   },
   "outputs": [
    {
     "name": "stdout",
     "output_type": "stream",
     "text": [
      "The autoreload extension is already loaded. To reload it, use:\n",
      "  %reload_ext autoreload\n"
     ]
    }
   ],
   "source": [
    "import pymc3 as pm\n",
    "import numpy as np\n",
    "import matplotlib.pyplot as plt\n",
    "import seaborn as sns\n",
    "import numpy.random as npr\n",
    "\n",
    "from model import make_model, sample_model, plot_forestplots\n",
    "\n",
    "sns.set_context('poster')\n",
    "sns.set_style('white')\n",
    "%matplotlib inline\n",
    "\n",
    "%load_ext autoreload\n",
    "%autoreload 2"
   ]
  },
  {
   "cell_type": "markdown",
   "metadata": {},
   "source": [
    "# Simulation Data\n",
    "\n",
    "In systematically measuring genotype-phenotype data, how will the data be collected, stored and analyzed? Is a small laptop enough to model the fold change calculations locally? I explore this in the following notebook."
   ]
  },
  {
   "cell_type": "code",
   "execution_count": 26,
   "metadata": {
    "collapsed": true
   },
   "outputs": [],
   "source": [
    "def make_simulated_data(n_reps_low, n_reps_high, n_genotypes):\n",
    "    means = npr.randint(low=10, high=100, size=n_genotypes)\n",
    "    means = means * (means > 0)  # negative activities are not captured\n",
    "    sds = npr.random(size=n_genotypes) * 10\n",
    "    num_measurements = npr.randint(low=n_reps_low, high=n_reps_high, size=n_genotypes)\n",
    "\n",
    "    # Create simulated data.\n",
    "    data = []\n",
    "    indices = []\n",
    "\n",
    "    for i in range(n_genotypes):\n",
    "        n = num_measurements[i]\n",
    "        mean = means[i]\n",
    "        sd = sds[i]\n",
    "\n",
    "        measurements = npr.normal(loc=mean, scale=sd, size=n)\n",
    "        # print(measurements)\n",
    "        measurements = measurements * (measurements > 0)\n",
    "        # print(measurements)\n",
    "\n",
    "        data.extend(measurements.tolist())\n",
    "        indices.extend([i] * n)\n",
    "\n",
    "    # Add baseline measurements (bl_measures)\n",
    "    n_bl_measures = n_reps_high - 1\n",
    "    bl_measures = npr.normal(loc=1.0, scale=0.1, size=n_bl_measures)\n",
    "    bl_measures = bl_measures * (bl_measures > 0)\n",
    "    data.extend(bl_measures)\n",
    "    indices.extend([n_genotypes] * n_bl_measures)\n",
    "    num_measurements = np.append(num_measurements, n_bl_measures)\n",
    "    means = np.append(means, bl_measures.mean())\n",
    "    sds = np.append(sds, bl_measures.std())\n",
    "\n",
    "    # Add pos_ctrl measurements (pc_measures)\n",
    "    n_pc_measures = n_reps_high - 1\n",
    "    pc_measures = npr.normal(loc=20.0, scale=1, size=n_pc_measures)\n",
    "    pc_measures = pc_measures * (pc_measures > 0)\n",
    "    data.extend(pc_measures)\n",
    "    indices.extend([n_genotypes + 1] * n_pc_measures)\n",
    "    num_measurements = np.append(num_measurements, n_pc_measures)\n",
    "    means = np.append(means, pc_measures.mean())\n",
    "    sds = np.append(sds, pc_measures.std())\n",
    "\n",
    "    # convert indices to a numpy array\n",
    "    indices = np.array(indices)\n",
    "\n",
    "    return data, indices, num_measurements, means, sds,"
   ]
  },
  {
   "cell_type": "code",
   "execution_count": 27,
   "metadata": {
    "collapsed": false
   },
   "outputs": [],
   "source": [
    "# Set n_genotypes > 1000 to obtain estimates of variance in error as a function of num_measurements\n",
    "# Set n_genotypes < 15 to obtain diagnostic plots (traceplot) and comparison of modelled to actual.\n",
    "# You've been forewarned - for the diagnostics and modelled, plotting with > 100 takes a while...\n",
    "n_genotypes = 5000\n",
    "n_reps = 2  # number of replicate measurements per sample\n",
    "\n",
    "sim_data = make_simulated_data(n_genotypes=n_genotypes, n_reps_low=2, n_reps_high=15)\n",
    "data, indices, num_measurements, means, sds = sim_data"
   ]
  },
  {
   "cell_type": "code",
   "execution_count": 28,
   "metadata": {
    "collapsed": false
   },
   "outputs": [
    {
     "data": {
      "text/plain": [
       "0.75552059864635035"
      ]
     },
     "execution_count": 28,
     "metadata": {},
     "output_type": "execute_result"
    }
   ],
   "source": [
    "# Compute the \"actual\" Z'-factor for the assay.\n",
    "zp_det = 1 - (3 * sds[-2] + 3 * sds[-1]) / np.abs(means[-2] - means[-1])\n",
    "zp_det"
   ]
  },
  {
   "cell_type": "code",
   "execution_count": 29,
   "metadata": {
    "collapsed": false
   },
   "outputs": [
    {
     "name": "stdout",
     "output_type": "stream",
     "text": [
      "Applied log-transform to upper and added transformed upper_log_ to model.\n",
      "Applied interval-transform to fold and added transformed fold_interval_ to model.\n",
      "Applied log-transform to sigma and added transformed sigma_log_ to model.\n"
     ]
    }
   ],
   "source": [
    "model = make_model(n_genotypes, data, indices)"
   ]
  },
  {
   "cell_type": "code",
   "execution_count": 30,
   "metadata": {
    "collapsed": false,
    "scrolled": true
   },
   "outputs": [
    {
     "name": "stdout",
     "output_type": "stream",
     "text": [
      "Iteration 0 [0%]: ELBO = -205425389.62\n",
      "Iteration 30000 [10%]: Average ELBO = -18074495.35\n",
      "Iteration 60000 [20%]: Average ELBO = -137656.07\n",
      "Iteration 90000 [30%]: Average ELBO = -134127.8\n",
      "Iteration 120000 [40%]: Average ELBO = -133493.26\n",
      "Iteration 150000 [50%]: Average ELBO = -133278.58\n",
      "Iteration 180000 [60%]: Average ELBO = -133232.87\n",
      "Iteration 210000 [70%]: Average ELBO = -133224.25\n",
      "Iteration 240000 [80%]: Average ELBO = -133217.27\n",
      "Iteration 270000 [90%]: Average ELBO = -133215.49\n",
      "Finished [100%]: Average ELBO = -133214.5\n",
      "CPU times: user 30min 27s, sys: 36.3 s, total: 31min 3s\n",
      "Wall time: 39min 40s\n"
     ]
    }
   ],
   "source": [
    "%%time\n",
    "\n",
    "trace = sample_model(model, n_genotypes)"
   ]
  },
  {
   "cell_type": "code",
   "execution_count": 31,
   "metadata": {
    "collapsed": false,
    "scrolled": false
   },
   "outputs": [],
   "source": [
    "if n_genotypes <= 15:\n",
    "    plot_forestplots(trace)"
   ]
  },
  {
   "cell_type": "code",
   "execution_count": 32,
   "metadata": {
    "collapsed": false,
    "scrolled": false
   },
   "outputs": [],
   "source": [
    "if n_genotypes <= 15:\n",
    "    pm.summary(trace)"
   ]
  },
  {
   "cell_type": "code",
   "execution_count": 33,
   "metadata": {
    "collapsed": false,
    "scrolled": false
   },
   "outputs": [],
   "source": [
    "if n_genotypes <= 15:\n",
    "    pm.traceplot(trace)"
   ]
  },
  {
   "cell_type": "markdown",
   "metadata": {},
   "source": [
    "# Error in Estimated Mean\n",
    "\n",
    "What is the error in estimated mean as a function of the number of measurements?"
   ]
  },
  {
   "cell_type": "code",
   "execution_count": 34,
   "metadata": {
    "collapsed": false
   },
   "outputs": [
    {
     "data": {
      "text/plain": [
       "array([ 3, 14,  5, ...,  3, 14, 14])"
      ]
     },
     "execution_count": 34,
     "metadata": {},
     "output_type": "execute_result"
    }
   ],
   "source": [
    "num_measurements"
   ]
  },
  {
   "cell_type": "code",
   "execution_count": 35,
   "metadata": {
    "collapsed": false
   },
   "outputs": [
    {
     "data": {
      "text/plain": [
       "array([  5.53774301e+00,   5.32765005e-01,  -1.28463355e+00, ...,\n",
       "        -6.19365439e-01,  -3.06191584e-03,   2.46455256e-02])"
      ]
     },
     "execution_count": 35,
     "metadata": {},
     "output_type": "execute_result"
    }
   ],
   "source": [
    "trace['fold'].mean(axis=0) - means"
   ]
  },
  {
   "cell_type": "code",
   "execution_count": 36,
   "metadata": {
    "collapsed": false
   },
   "outputs": [
    {
     "data": {
      "text/html": [
       "<div>\n",
       "<table border=\"1\" class=\"dataframe\">\n",
       "  <thead>\n",
       "    <tr style=\"text-align: right;\">\n",
       "      <th></th>\n",
       "      <th>num_measurements</th>\n",
       "      <th>error_means</th>\n",
       "    </tr>\n",
       "  </thead>\n",
       "  <tbody>\n",
       "    <tr>\n",
       "      <th>0</th>\n",
       "      <td>3.0</td>\n",
       "      <td>5.537743</td>\n",
       "    </tr>\n",
       "    <tr>\n",
       "      <th>1</th>\n",
       "      <td>14.0</td>\n",
       "      <td>0.532765</td>\n",
       "    </tr>\n",
       "    <tr>\n",
       "      <th>2</th>\n",
       "      <td>5.0</td>\n",
       "      <td>-1.284634</td>\n",
       "    </tr>\n",
       "    <tr>\n",
       "      <th>3</th>\n",
       "      <td>6.0</td>\n",
       "      <td>0.039482</td>\n",
       "    </tr>\n",
       "    <tr>\n",
       "      <th>4</th>\n",
       "      <td>13.0</td>\n",
       "      <td>-2.749844</td>\n",
       "    </tr>\n",
       "  </tbody>\n",
       "</table>\n",
       "</div>"
      ],
      "text/plain": [
       "   num_measurements  error_means\n",
       "0               3.0     5.537743\n",
       "1              14.0     0.532765\n",
       "2               5.0    -1.284634\n",
       "3               6.0     0.039482\n",
       "4              13.0    -2.749844"
      ]
     },
     "execution_count": 36,
     "metadata": {},
     "output_type": "execute_result"
    }
   ],
   "source": [
    "import pandas as pd\n",
    "errors_df = pd.DataFrame([num_measurements, (trace['fold'].mean(axis=0) - means)]).T\n",
    "errors_df.columns = ['num_measurements', 'error_means']\n",
    "errors_df.head()"
   ]
  },
  {
   "cell_type": "code",
   "execution_count": 43,
   "metadata": {
    "collapsed": false
   },
   "outputs": [
    {
     "data": {
      "image/png": "[encoded data removed]",
      "text/plain": [
       "<matplotlib.figure.Figure at 0x11b7bb470>"
      ]
     },
     "metadata": {},
     "output_type": "display_data"
    },
    {
     "data": {
      "image/png": "[encoded data removed]",
      "text/plain": [
       "<matplotlib.figure.Figure at 0x133737a90>"
      ]
     },
     "metadata": {},
     "output_type": "display_data"
    }
   ],
   "source": [
    "if n_genotypes >= 500:\n",
    "    sns.boxplot(data=errors_df, x='num_measurements', y='error_means')\n",
    "    ax = plt.gca()\n",
    "    labels = ax.get_xticklabels()\n",
    "    # plt.xticks(x=sorted(list(set(errors_df['num_measurements']))), )\n",
    "    plt.xticks(rotation=90)\n",
    "    plt.ylabel('Error in Fold Change')\n",
    "    plt.xlabel('Num. Measurements')\n",
    "    plt.savefig('../figures/error-means.pdf', bbox_inches='tight')\n",
    "    \n",
    "    errors_df.groupby('num_measurements').var().plot(legend=False)\n",
    "    plt.ylabel('Variance in Error')\n",
    "    plt.xlabel('Num. Measurements')\n",
    "    plt.savefig('../figures/var-error-means.pdf', bbox_inches='tight')"
   ]
  },
  {
   "cell_type": "code",
   "execution_count": 44,
   "metadata": {
    "collapsed": false
   },
   "outputs": [
    {
     "data": {
      "text/plain": [
       "-0.023556495484220639"
      ]
     },
     "execution_count": 44,
     "metadata": {},
     "output_type": "execute_result"
    }
   ],
   "source": [
    "(trace['fold'].mean(axis=0) - means).mean()"
   ]
  },
  {
   "cell_type": "code",
   "execution_count": 45,
   "metadata": {
    "collapsed": false
   },
   "outputs": [],
   "source": [
    "if n_genotypes <= 15:\n",
    "    plt.figure()\n",
    "    pm.traceplot(trace, varnames=['fold'])\n",
    "    plt.figure()"
   ]
  },
  {
   "cell_type": "markdown",
   "metadata": {},
   "source": [
    "# Compare modelled to actual"
   ]
  },
  {
   "cell_type": "code",
   "execution_count": 46,
   "metadata": {
    "collapsed": false
   },
   "outputs": [
    {
     "data": {
      "text/plain": [
       "array([ 67.53774301,  17.53276501,  14.71536645, ...,  79.38063456,\n",
       "         0.91587567,  19.61100567])"
      ]
     },
     "execution_count": 46,
     "metadata": {},
     "output_type": "execute_result"
    }
   ],
   "source": [
    "trace['fold'].mean(axis=0)"
   ]
  },
  {
   "cell_type": "code",
   "execution_count": 47,
   "metadata": {
    "collapsed": false
   },
   "outputs": [
    {
     "data": {
      "text/plain": [
       "(5002,)"
      ]
     },
     "execution_count": 47,
     "metadata": {},
     "output_type": "execute_result"
    }
   ],
   "source": [
    "trace['fold'].mean(axis=0).shape"
   ]
  },
  {
   "cell_type": "code",
   "execution_count": 48,
   "metadata": {
    "collapsed": false
   },
   "outputs": [
    {
     "data": {
      "text/plain": [
       "(5002,)"
      ]
     },
     "execution_count": 48,
     "metadata": {},
     "output_type": "execute_result"
    }
   ],
   "source": [
    "np.arange(1, n_genotypes+3).shape"
   ]
  },
  {
   "cell_type": "code",
   "execution_count": 49,
   "metadata": {
    "collapsed": false
   },
   "outputs": [],
   "source": [
    "if n_genotypes <= 15:\n",
    "    fig = plt.figure()\n",
    "    ax = fig.add_subplot(111)\n",
    "    lower = trace['fold'].mean(axis=0) - np.percentile(trace['fold'], 2.5, axis=0)\n",
    "    upper = np.percentile(trace['fold'], 97.5, axis=0) - trace['fold'].mean(axis=0)\n",
    "    yerr_pos = [lower, upper]\n",
    "    ax.errorbar(x=np.arange(1, n_genotypes+3), y=trace['fold'].mean(axis=0), \n",
    "                # y-error bars\n",
    "                yerr=yerr_pos,\n",
    "                # styling\n",
    "                color='blue', ls='none', alpha=0.5, label='modeled',)\n",
    "    ax.scatter(x=np.arange(1, n_genotypes+3), y=means, \n",
    "               # styling\n",
    "               color=['red'] * (n_genotypes) + ['green'] + ['blue'], marker='o', s=100, label='true mean',)\n",
    "    ax.errorbar(x=np.arange(1, n_genotypes+3), y=means,\n",
    "               yerr=sds,\n",
    "               color='red', ls='none', alpha=0.5, label='true var')\n",
    "    ax.legend(loc='upper left', frameon=False)\n",
    "    ax.hlines(xmin=0, xmax=n_genotypes+3, y=trace['fold'].mean(axis=0)[-2], linestyles='--', alpha=0.2)\n",
    "    ax.hlines(xmin=0, xmax=n_genotypes+3, y=trace['fold'].mean(axis=0)[-1], alpha=0.2)\n",
    "    ax.set_xlabel('genotype ID')\n",
    "    ax.set_ylabel('fold change')\n",
    "    # ax.set_xlim(, n_genotypes+2)"
   ]
  },
  {
   "cell_type": "code",
   "execution_count": 50,
   "metadata": {
    "collapsed": false
   },
   "outputs": [
    {
     "name": "stdout",
     "output_type": "stream",
     "text": [
      "just for checking the above plot...\n"
     ]
    }
   ],
   "source": [
    "if n_genotypes <= 15:\n",
    "    fig = plt.figure()\n",
    "    pm.forestplot(trace, vline=1, varnames=['fold'])\n",
    "print('just for checking the above plot...')"
   ]
  },
  {
   "cell_type": "markdown",
   "metadata": {},
   "source": [
    "How often is the true mean inside the 95% HPD?"
   ]
  },
  {
   "cell_type": "code",
   "execution_count": 51,
   "metadata": {
    "collapsed": false
   },
   "outputs": [
    {
     "data": {
      "text/plain": [
       "(array([ 61.54492009,  15.27924437,  10.6365609 , ...,  74.77374509,\n",
       "          0.84788347,  18.7979149 ]),\n",
       " array([ 73.2330488 ,  19.97540183,  19.45178829, ...,  83.64297428,\n",
       "          0.98384275,  20.469265  ]))"
      ]
     },
     "execution_count": 51,
     "metadata": {},
     "output_type": "execute_result"
    }
   ],
   "source": [
    "lower, upper = np.percentile(trace['fold'], [2.5, 97.5], axis=0)\n",
    "lower, upper"
   ]
  },
  {
   "cell_type": "code",
   "execution_count": 52,
   "metadata": {
    "collapsed": false
   },
   "outputs": [
    {
     "data": {
      "text/plain": [
       "array([ 62.        ,  17.        ,  16.        , ...,  80.        ,\n",
       "         0.91893758,  19.58636014])"
      ]
     },
     "execution_count": 52,
     "metadata": {},
     "output_type": "execute_result"
    }
   ],
   "source": [
    "means"
   ]
  },
  {
   "cell_type": "code",
   "execution_count": 53,
   "metadata": {
    "collapsed": false
   },
   "outputs": [
    {
     "data": {
      "text/plain": [
       "0.90843662534986003"
      ]
     },
     "execution_count": 53,
     "metadata": {},
     "output_type": "execute_result"
    }
   ],
   "source": [
    "# Here is the fraction of means that have been correctly included within the 95% HPD.\n",
    "sum((means > lower) *  (means < upper)) / len(means)"
   ]
  },
  {
   "cell_type": "markdown",
   "metadata": {
    "collapsed": true
   },
   "source": [
    "How many Z-factors are have their 95% HPD above the 0.5 line?"
   ]
  },
  {
   "cell_type": "code",
   "execution_count": 73,
   "metadata": {
    "collapsed": false
   },
   "outputs": [
    {
     "data": {
      "text/plain": [
       "0.16896620675864826"
      ]
     },
     "execution_count": 73,
     "metadata": {},
     "output_type": "execute_result"
    }
   ],
   "source": [
    "z_fact = trace['z_factor']\n",
    "z_fact_mean = trace['z_factor'].mean(axis=0)\n",
    "z_fact_lower = np.percentile(z_fact, 2.5, axis=0)\n",
    "false_hits = (z_fact_lower < 0.5) * (z_fact_mean > 0.5)\n",
    "true_hits = (z_fact_lower > 0.5) * (z_fact_mean > 0.5)\n",
    "\n",
    "false_hit_rate = false_hits.sum() / len(false_hits)\n",
    "false_hit_rate"
   ]
  },
  {
   "cell_type": "code",
   "execution_count": 75,
   "metadata": {
    "collapsed": false
   },
   "outputs": [
    {
     "data": {
      "text/plain": [
       "0.36595928973581637"
      ]
     },
     "execution_count": 75,
     "metadata": {},
     "output_type": "execute_result"
    }
   ],
   "source": [
    "false_hit_prob = false_hits.sum() / (true_hits.sum() + false_hits.sum())\n",
    "false_hit_prob"
   ]
  },
  {
   "cell_type": "code",
   "execution_count": 76,
   "metadata": {
    "collapsed": false
   },
   "outputs": [
    {
     "data": {
      "text/plain": [
       "0.63404071026418363"
      ]
     },
     "execution_count": 76,
     "metadata": {},
     "output_type": "execute_result"
    }
   ],
   "source": [
    "true_hit_prob = true_hits.sum() / (true_hits.sum() + false_hits.sum())\n",
    "true_hit_prob"
   ]
  },
  {
   "cell_type": "code",
   "execution_count": null,
   "metadata": {
    "collapsed": true
   },
   "outputs": [],
   "source": []
  }
 ],
 "metadata": {
  "anaconda-cloud": {},
  "kernelspec": {
   "display_name": "Python [Root]",
   "language": "python",
   "name": "Python [Root]"
  },
  "language_info": {
   "codemirror_mode": {
    "name": "ipython",
    "version": 3
   },
   "file_extension": ".py",
   "mimetype": "text/x-python",
   "name": "python",
   "nbconvert_exporter": "python",
   "pygments_lexer": "ipython3",
   "version": "3.5.2"
  }
 },
 "nbformat": 4,
 "nbformat_minor": 0
}
