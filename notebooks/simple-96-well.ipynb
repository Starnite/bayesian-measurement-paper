{
 "cells": [
  {
   "cell_type": "code",
   "execution_count": 1,
   "metadata": {
    "collapsed": true
   },
   "outputs": [],
   "source": [
    "import pymc3 as pm\n",
    "import numpy as np\n",
    "import matplotlib.pyplot as plt\n",
    "import seaborn as sns\n",
    "\n",
    "sns.set_context('poster')\n",
    "sns.set_style('white')\n",
    "%matplotlib inline"
   ]
  },
  {
   "cell_type": "markdown",
   "metadata": {},
   "source": [
    "# Simulation Data\n",
    "\n",
    "In systematically measuring genotype-phenotype data, how will the data be collected, stored and analyzed? Is a small laptop enough to model the fold change calculations locally? I explore this in the following notebook."
   ]
  },
  {
   "cell_type": "code",
   "execution_count": 35,
   "metadata": {
    "collapsed": false
   },
   "outputs": [],
   "source": [
    "# Set n_genotypes > 1000 to obtain estimates of variance in error as a function of num_measurements\n",
    "# Set n_genotypes < 15 to obtain diagnostic plots (traceplot) and comparison of modelled to actual.\n",
    "# You've been forewarned - for the diagnostics and modelled, plotting with > 100 takes a while...\n",
    "n_genotypes = 1000\n",
    "\n",
    "means = np.random.randint(low=10, high=100, size=n_genotypes)\n",
    "means = means * (means > 0)  # negative activities are not captured\n",
    "sds = np.random.random(size=n_genotypes) * 30\n",
    "num_measurements = np.random.randint(low=2, high=5, size=n_genotypes)\n",
    "\n",
    "# Create simulated data.\n",
    "data = []\n",
    "indices = []\n",
    "\n",
    "for i in range(n_genotypes):\n",
    "    n = num_measurements[i]\n",
    "    mean = means[i]\n",
    "    sd = sds[i]\n",
    "    \n",
    "    measurements = np.random.normal(loc=mean, scale=sd, size=n)\n",
    "    # print(measurements)\n",
    "    measurements = measurements * (measurements > 0)\n",
    "    # print(measurements)\n",
    "    \n",
    "    data.extend(measurements.tolist())\n",
    "    indices.extend([i] * n)\n",
    "\n",
    "# Add baseline measurements (bl_measures)\n",
    "n_bl_measures = 2\n",
    "bl_measures = np.random.normal(loc=1.0, scale=0.1, size=n_bl_measures)\n",
    "bl_measures = bl_measures * (bl_measures > 0)\n",
    "data.extend(bl_measures)\n",
    "indices.extend([n_genotypes] * n_bl_measures)\n",
    "num_measurements = np.append(num_measurements, n_bl_measures)\n",
    "means = np.append(means, bl_measures.mean())\n",
    "sds = np.append(sds, bl_measures.std())\n",
    "\n",
    "# Add pos_ctrl measurements (pc_measures)\n",
    "n_pc_measures = 10\n",
    "pc_measures = np.random.normal(loc=20.0, scale=2, size=n_pc_measures)\n",
    "pc_measures = pc_measures * (pc_measures > 0)\n",
    "data.extend(pc_measures)\n",
    "indices.extend([n_genotypes + 1] * n_pc_measures)\n",
    "num_measurements = np.append(num_measurements, n_pc_measures)\n",
    "means = np.append(means, pc_measures.mean())\n",
    "sds = np.append(sds, pc_measures.std())\n",
    "\n",
    "# convert indices to a numpy array\n",
    "indices = np.array(indices)"
   ]
  },
  {
   "cell_type": "code",
   "execution_count": 36,
   "metadata": {
    "collapsed": false
   },
   "outputs": [
    {
     "data": {
      "text/plain": [
       "array([   0,    0,    0, ..., 1001, 1001, 1001])"
      ]
     },
     "execution_count": 36,
     "metadata": {},
     "output_type": "execute_result"
    }
   ],
   "source": [
    "indices"
   ]
  },
  {
   "cell_type": "code",
   "execution_count": 37,
   "metadata": {
    "collapsed": false
   },
   "outputs": [
    {
     "data": {
      "text/plain": [
       "array([ 42.        ,  65.        ,  29.        , ...,  62.        ,\n",
       "         0.99585532,  20.16482039])"
      ]
     },
     "execution_count": 37,
     "metadata": {},
     "output_type": "execute_result"
    }
   ],
   "source": [
    "means"
   ]
  },
  {
   "cell_type": "code",
   "execution_count": 38,
   "metadata": {
    "collapsed": false
   },
   "outputs": [
    {
     "data": {
      "text/plain": [
       "array([  4.02525017,  27.50944721,  26.35229427, ...,   3.185372  ,\n",
       "         0.0841317 ,   1.22980279])"
      ]
     },
     "execution_count": 38,
     "metadata": {},
     "output_type": "execute_result"
    }
   ],
   "source": [
    "sds"
   ]
  },
  {
   "cell_type": "code",
   "execution_count": 39,
   "metadata": {
    "collapsed": false
   },
   "outputs": [
    {
     "data": {
      "text/plain": [
       "array([ 3,  2,  4, ...,  3,  2, 10])"
      ]
     },
     "execution_count": 39,
     "metadata": {},
     "output_type": "execute_result"
    }
   ],
   "source": [
    "num_measurements"
   ]
  },
  {
   "cell_type": "code",
   "execution_count": 40,
   "metadata": {
    "collapsed": false
   },
   "outputs": [
    {
     "data": {
      "text/plain": [
       "(3032, 3032)"
      ]
     },
     "execution_count": 40,
     "metadata": {},
     "output_type": "execute_result"
    }
   ],
   "source": [
    "len(data), len(indices)"
   ]
  },
  {
   "cell_type": "code",
   "execution_count": 41,
   "metadata": {
    "collapsed": false,
    "scrolled": true
   },
   "outputs": [
    {
     "data": {
      "text/plain": [
       "array([ 37.98437548,  36.5187167 ,  36.01393404, ...,  21.98449716,\n",
       "        18.43500235,  20.03997742])"
      ]
     },
     "execution_count": 41,
     "metadata": {},
     "output_type": "execute_result"
    }
   ],
   "source": [
    "np.array(data)"
   ]
  },
  {
   "cell_type": "code",
   "execution_count": 42,
   "metadata": {
    "collapsed": false
   },
   "outputs": [
    {
     "data": {
      "text/plain": [
       "0.79436534878184395"
      ]
     },
     "execution_count": 42,
     "metadata": {},
     "output_type": "execute_result"
    }
   ],
   "source": [
    "zp_det = 1 - (3 * sds[-2] + 3 * sds[-1]) / np.abs(means[-2] - means[-1])\n",
    "zp_det"
   ]
  },
  {
   "cell_type": "code",
   "execution_count": 43,
   "metadata": {
    "collapsed": false
   },
   "outputs": [
    {
     "name": "stdout",
     "output_type": "stream",
     "text": [
      "Applied log-transform to upper and added transformed upper_log_ to model.\n",
      "Applied interval-transform to fold and added transformed fold_interval_ to model.\n",
      "Applied log-transform to sigma and added transformed sigma_log_ to model.\n"
     ]
    }
   ],
   "source": [
    "with pm.Model() as model:\n",
    "    # Hyperpriors\n",
    "    # fold_mu = pm.Flat('fold_mu')\n",
    "    # fold_sd = pm.HalfCauchy('fold_sd', 100)\n",
    "    # fold_alpha = pm.Flat('fold_alpha')\n",
    "    # fold_beta = pm.Flat('fold_beta')\n",
    "    # fold_tau = pm.Exponential('fold_tau', lam=10)\n",
    "    # fold_lam = pm.Beta('fold_lam', alpha=10, beta=1)\n",
    "\n",
    "    # \"Intercept\", which is basically the measurement values.\n",
    "    # fold = pm.Gamma('fold', alpha=1, beta=2, shape=n_genotypes+1)\n",
    "    # fold = pm.HalfNormal('fold', tau=fold_tau, shape=n_genotypes+2)\n",
    "    # fold = pm.Exponential('fold', lam=fold_lam, shape=n_genotypes+2)\n",
    "    upper = pm.Exponential('upper', lam=0.5)\n",
    "    fold = pm.Uniform('fold', lower=1E-9, upper=upper, shape=n_genotypes+2)\n",
    "    \n",
    "    # Assume that data have heteroskedastic (i.e. variable) error but are drawn from the same distribution\n",
    "    sigma = pm.Gamma('sigma', alpha=1, beta=1, shape=n_genotypes+2)\n",
    "    \n",
    "    # Model prediction\n",
    "    mu = fold[indices]\n",
    "    sig = sigma[indices]\n",
    "    \n",
    "    # Data likelihood\n",
    "    like = pm.Normal('like', mu=mu, sd=sig, observed=data)\n",
    "    \n",
    "    # Compute Z-factors relative to positive ctrl.\n",
    "    z_factor = pm.Deterministic('z_factor', 1 - (3 * sigma[:-1] + 3 * sigma[-1]) / np.abs(fold[:-1] - fold[-1]))\n",
    "    \n",
    "    # Compute Z-prime factor between negative and positive control.\n",
    "    zp_factor = pm.Deterministic('zp_factor', 1 - (3 * sigma[-2] + 3 * sigma[-1]) / np.abs(fold[-2] - fold[-1]))\n",
    "    \n",
    "    # Compute fold changes\n",
    "    fold_changes = pm.Deterministic('fold_changes', fold[:-2] / fold[-1])"
   ]
  },
  {
   "cell_type": "code",
   "execution_count": 44,
   "metadata": {
    "collapsed": false,
    "scrolled": true
   },
   "outputs": [
    {
     "name": "stdout",
     "output_type": "stream",
     "text": [
      "Iteration 0 [0%]: ELBO = -38668244.28\n",
      "Iteration 20000 [10%]: Average ELBO = -2894194.43\n",
      "Iteration 40000 [20%]: Average ELBO = -36366.74\n",
      "Iteration 60000 [30%]: Average ELBO = -21409.37\n",
      "Iteration 80000 [40%]: Average ELBO = -19128.07\n",
      "Iteration 100000 [50%]: Average ELBO = -18724.03\n",
      "Iteration 120000 [60%]: Average ELBO = -18609.43\n",
      "Iteration 140000 [70%]: Average ELBO = -18574.46\n",
      "Iteration 160000 [80%]: Average ELBO = -18558.6\n",
      "Iteration 180000 [90%]: Average ELBO = -18550.25\n",
      "Finished [100%]: Average ELBO = -18549.24\n",
      "CPU times: user 2min 4s, sys: 439 ms, total: 2min 4s\n",
      "Wall time: 2min 5s\n"
     ]
    }
   ],
   "source": [
    "%%time\n",
    "with model:\n",
    "    if n_genotypes <= 10:\n",
    "        n_steps = 150000\n",
    "    elif n_genotypes > 10:\n",
    "        n_steps = 200000\n",
    "    params = pm.variational.advi(n=n_steps)\n",
    "    trace = pm.variational.sample_vp(params, draws=2000)"
   ]
  },
  {
   "cell_type": "code",
   "execution_count": 45,
   "metadata": {
    "collapsed": false,
    "scrolled": false
   },
   "outputs": [],
   "source": [
    "if n_genotypes <= 15:\n",
    "    fig = plt.figure()\n",
    "    pm.traceplot(trace, varnames=['upper'])\n",
    "    \n",
    "    fig = plt.figure()\n",
    "    pm.forestplot(trace, vline=1, varnames=['fold'])\n",
    "    \n",
    "    fig = plt.figure()\n",
    "    pm.forestplot(trace, varnames=['z_factor'], xrange=(-1, 1), vline=0.5)\n",
    "    \n",
    "    fig = plt.figure()\n",
    "    pm.forestplot(trace, varnames=['sigma'])\n",
    "    \n",
    "    plt.figure()\n",
    "    pm.forestplot(trace, varnames=['fold_changes'], vline=1)"
   ]
  },
  {
   "cell_type": "code",
   "execution_count": 46,
   "metadata": {
    "collapsed": false
   },
   "outputs": [],
   "source": [
    "# plt.figure()\n",
    "# pm.forestplot(trace, varnames=['fold_lam'])\n",
    "# plt.figure()\n",
    "# pm.traceplot(trace, varnames=['fold_lam'])"
   ]
  },
  {
   "cell_type": "code",
   "execution_count": 47,
   "metadata": {
    "collapsed": false,
    "scrolled": false
   },
   "outputs": [],
   "source": [
    "if n_genotypes <= 15:\n",
    "    pm.summary(trace)"
   ]
  },
  {
   "cell_type": "code",
   "execution_count": 48,
   "metadata": {
    "collapsed": false,
    "scrolled": false
   },
   "outputs": [],
   "source": [
    "if n_genotypes <= 15:\n",
    "    pm.traceplot(trace)"
   ]
  },
  {
   "cell_type": "markdown",
   "metadata": {},
   "source": [
    "# Error in Estimated Mean\n",
    "\n",
    "What is the error in estimated mean as a function of the number of measurements?"
   ]
  },
  {
   "cell_type": "code",
   "execution_count": 49,
   "metadata": {
    "collapsed": false
   },
   "outputs": [
    {
     "data": {
      "text/plain": [
       "array([ 3,  2,  4, ...,  3,  2, 10])"
      ]
     },
     "execution_count": 49,
     "metadata": {},
     "output_type": "execute_result"
    }
   ],
   "source": [
    "num_measurements"
   ]
  },
  {
   "cell_type": "code",
   "execution_count": 50,
   "metadata": {
    "collapsed": false
   },
   "outputs": [
    {
     "data": {
      "text/plain": [
       "array([ -5.13910756e+00,  -2.45090110e+01,   1.80444713e+00, ...,\n",
       "        -1.38854975e-01,   1.82419926e-02,   2.38368586e-02])"
      ]
     },
     "execution_count": 50,
     "metadata": {},
     "output_type": "execute_result"
    }
   ],
   "source": [
    "trace['fold'].mean(axis=0) - means"
   ]
  },
  {
   "cell_type": "code",
   "execution_count": 51,
   "metadata": {
    "collapsed": false
   },
   "outputs": [
    {
     "data": {
      "text/html": [
       "<div>\n",
       "<table border=\"1\" class=\"dataframe\">\n",
       "  <thead>\n",
       "    <tr style=\"text-align: right;\">\n",
       "      <th></th>\n",
       "      <th>num_measurements</th>\n",
       "      <th>error_means</th>\n",
       "    </tr>\n",
       "  </thead>\n",
       "  <tbody>\n",
       "    <tr>\n",
       "      <th>0</th>\n",
       "      <td>3.0</td>\n",
       "      <td>-5.139108</td>\n",
       "    </tr>\n",
       "    <tr>\n",
       "      <th>1</th>\n",
       "      <td>2.0</td>\n",
       "      <td>-24.509011</td>\n",
       "    </tr>\n",
       "    <tr>\n",
       "      <th>2</th>\n",
       "      <td>4.0</td>\n",
       "      <td>1.804447</td>\n",
       "    </tr>\n",
       "    <tr>\n",
       "      <th>3</th>\n",
       "      <td>2.0</td>\n",
       "      <td>2.677937</td>\n",
       "    </tr>\n",
       "    <tr>\n",
       "      <th>4</th>\n",
       "      <td>2.0</td>\n",
       "      <td>-8.319360</td>\n",
       "    </tr>\n",
       "  </tbody>\n",
       "</table>\n",
       "</div>"
      ],
      "text/plain": [
       "   num_measurements  error_means\n",
       "0               3.0    -5.139108\n",
       "1               2.0   -24.509011\n",
       "2               4.0     1.804447\n",
       "3               2.0     2.677937\n",
       "4               2.0    -8.319360"
      ]
     },
     "execution_count": 51,
     "metadata": {},
     "output_type": "execute_result"
    }
   ],
   "source": [
    "import pandas as pd\n",
    "errors_df = pd.DataFrame([num_measurements, (trace['fold'].mean(axis=0) - means)]).T\n",
    "errors_df.columns = ['num_measurements', 'error_means']\n",
    "errors_df.head()"
   ]
  },
  {
   "cell_type": "code",
   "execution_count": 52,
   "metadata": {
    "collapsed": false
   },
   "outputs": [
    {
     "data": {
      "image/png": "[encoded data removed]",
      "text/plain": [
       "<matplotlib.figure.Figure at 0x11dd69c88>"
      ]
     },
     "metadata": {},
     "output_type": "display_data"
    },
    {
     "data": {
      "image/png": "[encoded data removed]",
      "text/plain": [
       "<matplotlib.figure.Figure at 0x11a97d5c0>"
      ]
     },
     "metadata": {},
     "output_type": "display_data"
    }
   ],
   "source": [
    "if n_genotypes >= 500:\n",
    "    sns.boxplot(data=errors_df, x='num_measurements', y='error_means')\n",
    "    errors_df.groupby('num_measurements').var().plot(legend=False)\n",
    "    plt.ylabel('var(error)')"
   ]
  },
  {
   "cell_type": "code",
   "execution_count": 53,
   "metadata": {
    "collapsed": false
   },
   "outputs": [
    {
     "data": {
      "text/plain": [
       "0.23043292450856404"
      ]
     },
     "execution_count": 53,
     "metadata": {},
     "output_type": "execute_result"
    }
   ],
   "source": [
    "(trace['fold'].mean(axis=0) - means).mean()"
   ]
  },
  {
   "cell_type": "code",
   "execution_count": 54,
   "metadata": {
    "collapsed": false
   },
   "outputs": [],
   "source": [
    "if n_genotypes <= 15:\n",
    "    plt.figure()\n",
    "    pm.traceplot(trace, varnames=['fold'])\n",
    "    plt.figure()\n"
   ]
  },
  {
   "cell_type": "code",
   "execution_count": 64,
   "metadata": {},
   "outputs": [
    {
     "data": {
      "text/plain": [
       "array([[<matplotlib.axes._subplots.AxesSubplot object at 0x1273ec278>,\n",
       "        <matplotlib.axes._subplots.AxesSubplot object at 0x1276cbac8>],\n",
       "       [<matplotlib.axes._subplots.AxesSubplot object at 0x127855128>,\n",
       "        <matplotlib.axes._subplots.AxesSubplot object at 0x1278b3198>]], dtype=object)"
      ]
     },
     "execution_count": 64,
     "metadata": {},
     "output_type": "execute_result"
    },
    {
     "data": {
      "image/png": "[encoded data removed]",
      "text/plain": [
       "<matplotlib.figure.Figure at 0x126f90198>"
      ]
     },
     "metadata": {},
     "output_type": "display_data"
    }
   ],
   "source": [
    "pm.traceplot(trace, varnames=['z_factor', 'upper'])"
   ]
  },
  {
   "cell_type": "markdown",
   "metadata": {},
   "source": [
    "# Compare modelled to actual"
   ]
  },
  {
   "cell_type": "code",
   "execution_count": 55,
   "metadata": {
    "collapsed": false
   },
   "outputs": [
    {
     "data": {
      "text/plain": [
       "array([ 36.86089244,  40.49098897,  30.80444713, ...,  61.86114502,\n",
       "         1.01409731,  20.18865725])"
      ]
     },
     "execution_count": 55,
     "metadata": {},
     "output_type": "execute_result"
    }
   ],
   "source": [
    "trace['fold'].mean(axis=0)"
   ]
  },
  {
   "cell_type": "code",
   "execution_count": 56,
   "metadata": {
    "collapsed": false
   },
   "outputs": [
    {
     "data": {
      "text/plain": [
       "(1002,)"
      ]
     },
     "execution_count": 56,
     "metadata": {},
     "output_type": "execute_result"
    }
   ],
   "source": [
    "trace['fold'].mean(axis=0).shape"
   ]
  },
  {
   "cell_type": "code",
   "execution_count": 57,
   "metadata": {
    "collapsed": false
   },
   "outputs": [
    {
     "data": {
      "text/plain": [
       "(1002,)"
      ]
     },
     "execution_count": 57,
     "metadata": {},
     "output_type": "execute_result"
    }
   ],
   "source": [
    "np.arange(1, n_genotypes+3).shape"
   ]
  },
  {
   "cell_type": "code",
   "execution_count": 58,
   "metadata": {
    "collapsed": false
   },
   "outputs": [],
   "source": [
    "if n_genotypes <= 15:\n",
    "    fig = plt.figure()\n",
    "    ax = fig.add_subplot(111)\n",
    "    lower = trace['fold'].mean(axis=0) - np.percentile(trace['fold'], 2.5, axis=0)\n",
    "    upper = np.percentile(trace['fold'], 97.5, axis=0) - trace['fold'].mean(axis=0)\n",
    "    yerr_pos = [lower, upper]\n",
    "    ax.errorbar(x=np.arange(1, n_genotypes+3), y=trace['fold'].mean(axis=0), \n",
    "                # y-error bars\n",
    "                yerr=yerr_pos,\n",
    "                # styling\n",
    "                color='blue', ls='none', alpha=0.5, label='modeled',)\n",
    "    ax.scatter(x=np.arange(1, n_genotypes+3), y=means, \n",
    "               # styling\n",
    "               color=['red'] * (n_genotypes) + ['green'] + ['blue'], marker='o', s=100, label='true mean',)\n",
    "    ax.errorbar(x=np.arange(1, n_genotypes+3), y=means,\n",
    "               yerr=sds,\n",
    "               color='red', ls='none', alpha=0.5, label='true var')\n",
    "    ax.legend(loc='upper left', frameon=False)\n",
    "    ax.hlines(xmin=0, xmax=n_genotypes+3, y=trace['fold'].mean(axis=0)[-2], linestyles='--', alpha=0.2)\n",
    "    ax.hlines(xmin=0, xmax=n_genotypes+3, y=trace['fold'].mean(axis=0)[-1], alpha=0.2)\n",
    "    ax.set_xlabel('genotype ID')\n",
    "    ax.set_ylabel('fold change')\n",
    "    # ax.set_xlim(, n_genotypes+2)"
   ]
  },
  {
   "cell_type": "code",
   "execution_count": 59,
   "metadata": {
    "collapsed": false
   },
   "outputs": [
    {
     "name": "stdout",
     "output_type": "stream",
     "text": [
      "just for checking the above plot...\n"
     ]
    }
   ],
   "source": [
    "if n_genotypes <= 15:\n",
    "    fig = plt.figure()\n",
    "    pm.forestplot(trace, vline=1, varnames=['fold'])\n",
    "print('just for checking the above plot...')"
   ]
  },
  {
   "cell_type": "markdown",
   "metadata": {},
   "source": [
    "How does Z-factor vary as a function of variance for a fixed set of replicate measurements?"
   ]
  },
  {
   "cell_type": "code",
   "execution_count": 60,
   "metadata": {
    "collapsed": false
   },
   "outputs": [
    {
     "data": {
      "text/plain": [
       "<matplotlib.axes._subplots.AxesSubplot at 0x11db082e8>"
      ]
     },
     "execution_count": 60,
     "metadata": {},
     "output_type": "execute_result"
    },
    {
     "data": {
      "image/png": "[encoded data removed]",
      "text/plain": [
       "<matplotlib.figure.Figure at 0x11a9d8a20>"
      ]
     },
     "metadata": {},
     "output_type": "display_data"
    }
   ],
   "source": [
    "df = pd.DataFrame()\n",
    "df['z-factor'] = trace['z_factor'].mean(axis=0)\n",
    "df['num_measurements'] = num_measurements[:-1]\n",
    "df['sds'] = sds[:-1]\n",
    "\n",
    "df.plot(kind='scatter', x='sds', y='z-factor')"
   ]
  },
  {
   "cell_type": "code",
   "execution_count": 61,
   "metadata": {
    "collapsed": false
   },
   "outputs": [
    {
     "data": {
      "text/plain": [
       "(1002,)"
      ]
     },
     "execution_count": 61,
     "metadata": {},
     "output_type": "execute_result"
    }
   ],
   "source": [
    "num_measurements.shape"
   ]
  },
  {
   "cell_type": "code",
   "execution_count": 62,
   "metadata": {
    "collapsed": false
   },
   "outputs": [
    {
     "data": {
      "text/plain": [
       "(2000, 1001)"
      ]
     },
     "execution_count": 62,
     "metadata": {},
     "output_type": "execute_result"
    }
   ],
   "source": [
    "trace['z_factor'].shape"
   ]
  },
  {
   "cell_type": "code",
   "execution_count": null,
   "metadata": {
    "collapsed": true
   },
   "outputs": [],
   "source": []
  }
 ],
 "metadata": {
  "anaconda-cloud": {},
  "kernelspec": {
   "display_name": "Python [Root]",
   "language": "python",
   "name": "Python [Root]"
  },
  "language_info": {
   "codemirror_mode": {
    "name": "ipython",
    "version": 3
   },
   "file_extension": ".py",
   "mimetype": "text/x-python",
   "name": "python",
   "nbconvert_exporter": "python",
   "pygments_lexer": "ipython3",
   "version": "3.5.2"
  }
 },
 "nbformat": 4,
 "nbformat_minor": 0
}
