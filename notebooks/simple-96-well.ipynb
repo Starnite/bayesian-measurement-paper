{
 "cells": [
  {
   "cell_type": "code",
   "execution_count": 2,
   "metadata": {
    "collapsed": true
   },
   "outputs": [],
   "source": [
    "import pymc3 as pm\n",
    "import numpy as np\n",
    "import matplotlib.pyplot as plt\n",
    "import seaborn as sns\n",
    "\n",
    "sns.set_context('poster')\n",
    "sns.set_style('white')\n",
    "%matplotlib inline"
   ]
  },
  {
   "cell_type": "code",
   "execution_count": 16,
   "metadata": {
    "collapsed": false
   },
   "outputs": [
    {
     "data": {
      "text/plain": [
       "(5, 4)"
      ]
     },
     "execution_count": 16,
     "metadata": {},
     "output_type": "execute_result"
    }
   ],
   "source": [
    "X = np.array([list('MLVK'),\n",
    "              list('MKVR'),\n",
    "              list('MLVR'),\n",
    "              list('MKVK'),\n",
    "              list('MLVK'),])\n",
    "X.shape"
   ]
  },
  {
   "cell_type": "code",
   "execution_count": 17,
   "metadata": {
    "collapsed": false
   },
   "outputs": [
    {
     "data": {
      "text/plain": [
       "(5, 1)"
      ]
     },
     "execution_count": 17,
     "metadata": {},
     "output_type": "execute_result"
    }
   ],
   "source": [
    "Y = np.array([[1],\n",
    "              [0],\n",
    "              [0.1],\n",
    "              [0.9],\n",
    "              [0.05]])\n",
    "Y.shape"
   ]
  },
  {
   "cell_type": "code",
   "execution_count": 142,
   "metadata": {
    "collapsed": true
   },
   "outputs": [],
   "source": [
    "n_measures = 4\n",
    "geno1_folds = np.random.normal(loc=5, scale=0.5, size=n_measures)\n",
    "geno2_folds = np.random.normal(loc=7, scale=0.6, size=n_measures+5)\n",
    "geno3_folds = np.random.normal(loc=10, scale=0.2, size=n_measures-2)"
   ]
  },
  {
   "cell_type": "code",
   "execution_count": 143,
   "metadata": {
    "collapsed": false
   },
   "outputs": [
    {
     "data": {
      "text/plain": [
       "array([ 4.41584601,  4.79890996,  5.25500946,  5.95498411])"
      ]
     },
     "execution_count": 143,
     "metadata": {},
     "output_type": "execute_result"
    }
   ],
   "source": [
    "geno1_folds"
   ]
  },
  {
   "cell_type": "code",
   "execution_count": 144,
   "metadata": {
    "collapsed": false
   },
   "outputs": [
    {
     "data": {
      "text/plain": [
       "array([ 6.96576017,  7.33083307,  6.65489756,  6.42604332,  5.74417822,\n",
       "        5.88012385,  7.70018396,  7.45405359,  7.65575332])"
      ]
     },
     "execution_count": 144,
     "metadata": {},
     "output_type": "execute_result"
    }
   ],
   "source": [
    "geno2_folds"
   ]
  },
  {
   "cell_type": "code",
   "execution_count": 145,
   "metadata": {
    "collapsed": false
   },
   "outputs": [
    {
     "data": {
      "text/plain": [
       "array([ 10.11936343,  10.08910662])"
      ]
     },
     "execution_count": 145,
     "metadata": {},
     "output_type": "execute_result"
    }
   ],
   "source": [
    "geno3_folds"
   ]
  },
  {
   "cell_type": "code",
   "execution_count": 146,
   "metadata": {
    "collapsed": false
   },
   "outputs": [
    {
     "name": "stdout",
     "output_type": "stream",
     "text": [
      "Applied interval-transform to sds and added transformed sds_interval_ to model.\n",
      "Applied interval-transform to lam and added transformed lam_interval_ to model.\n",
      "Applied log-transform to sd1 and added transformed sd1_log_ to model.\n",
      "Applied log-transform to sd2 and added transformed sd2_log_ to model.\n",
      "Applied log-transform to sd3 and added transformed sd3_log_ to model.\n"
     ]
    }
   ],
   "source": [
    "with pm.Model() as model:\n",
    "    \n",
    "    mus = pm.Flat('mus') # Master \"mu\" for hierarchical model.\n",
    "    sds = pm.Uniform('sds', lower=0, upper=10)\n",
    "    lam = pm.Uniform('lam', lower=0, upper=10)\n",
    "    \n",
    "    mu1 = pm.Normal('mu1', mu=mus, sd=sds)\n",
    "    sd1 = pm.Exponential('sd1', lam=lam)\n",
    "    mu2 = pm.Normal('mu2', mu=mus, sd=sds)\n",
    "    sd2 = pm.Exponential('sd2', lam=lam)\n",
    "    mu3 = pm.Normal('mu3', mu=mus, sd=sds)\n",
    "    sd3 = pm.Exponential('sd3', lam=lam)\n",
    "    geno1_like = pm.Normal('geno1', mu=mu1, sd=sd1, observed=geno1_folds)\n",
    "    geno2_like = pm.Normal('geno2', mu=mu2, sd=sd2, observed=geno2_folds)\n",
    "    geno3_like = pm.Normal('geno3', mu=mu3, sd=sd3, observed=geno3_folds)"
   ]
  },
  {
   "cell_type": "code",
   "execution_count": 149,
   "metadata": {
    "collapsed": false
   },
   "outputs": [
    {
     "name": "stdout",
     "output_type": "stream",
     "text": [
      "Iteration 0 [0%]: ELBO = -53852.11\n",
      "Iteration 12000 [10%]: Average ELBO = -13011.67\n",
      "Iteration 24000 [20%]: Average ELBO = -48.32\n",
      "Iteration 36000 [30%]: Average ELBO = -34.46\n",
      "Iteration 48000 [40%]: Average ELBO = -31.11\n",
      "Iteration 60000 [50%]: Average ELBO = -29.28\n",
      "Iteration 72000 [60%]: Average ELBO = -27.67\n",
      "Iteration 84000 [70%]: Average ELBO = -26.55\n",
      "Iteration 96000 [80%]: Average ELBO = -25.93\n",
      "Iteration 108000 [90%]: Average ELBO = -25.72\n",
      "Finished [100%]: Average ELBO = -25.73\n"
     ]
    }
   ],
   "source": [
    "with model:\n",
    "    params = pm.variational.advi(n=120000)\n",
    "    trace = pm.variational.sample_vp(params, draws=2000)"
   ]
  },
  {
   "cell_type": "code",
   "execution_count": 150,
   "metadata": {
    "collapsed": false
   },
   "outputs": [
    {
     "data": {
      "text/plain": [
       "<matplotlib.gridspec.GridSpec at 0x11e92f358>"
      ]
     },
     "execution_count": 150,
     "metadata": {},
     "output_type": "execute_result"
    },
    {
     "data": {
      "image/png": "[encoded data removed]",
      "text/plain": [
       "<matplotlib.figure.Figure at 0x11e92ff28>"
      ]
     },
     "metadata": {},
     "output_type": "display_data"
    }
   ],
   "source": [
    "pm.forestplot(trace)"
   ]
  },
  {
   "cell_type": "code",
   "execution_count": null,
   "metadata": {
    "collapsed": true
   },
   "outputs": [],
   "source": []
  }
 ],
 "metadata": {
  "anaconda-cloud": {},
  "kernelspec": {
   "display_name": "Python [Root]",
   "language": "python",
   "name": "Python [Root]"
  },
  "language_info": {
   "codemirror_mode": {
    "name": "ipython",
    "version": 3
   },
   "file_extension": ".py",
   "mimetype": "text/x-python",
   "name": "python",
   "nbconvert_exporter": "python",
   "pygments_lexer": "ipython3",
   "version": "3.5.2"
  }
 },
 "nbformat": 4,
 "nbformat_minor": 0
}
