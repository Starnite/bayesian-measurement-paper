{
 "cells": [
  {
   "cell_type": "code",
   "execution_count": 179,
   "metadata": {
    "collapsed": false
   },
   "outputs": [
    {
     "name": "stdout",
     "output_type": "stream",
     "text": [
      "The autoreload extension is already loaded. To reload it, use:\n",
      "  %reload_ext autoreload\n"
     ]
    }
   ],
   "source": [
    "import pymc3 as pm\n",
    "import numpy as np\n",
    "import matplotlib.pyplot as plt\n",
    "import seaborn as sns\n",
    "import numpy.random as npr\n",
    "\n",
    "from model import make_model, sample_model, plot_forestplots\n",
    "\n",
    "sns.set_context('poster')\n",
    "sns.set_style('white')\n",
    "%matplotlib inline\n",
    "\n",
    "%load_ext autoreload\n",
    "%autoreload 2"
   ]
  },
  {
   "cell_type": "markdown",
   "metadata": {},
   "source": [
    "# Simulation Data\n",
    "\n",
    "In systematically measuring genotype-phenotype data, how will the data be collected, stored and analyzed? Is a small laptop enough to model the fold change calculations locally? I explore this in the following notebook."
   ]
  },
  {
   "cell_type": "code",
   "execution_count": 180,
   "metadata": {
    "collapsed": true
   },
   "outputs": [],
   "source": [
    "def make_simulated_data(n_reps_low, n_reps_high, n_genotypes):\n",
    "    means = npr.randint(low=10, high=100, size=n_genotypes)\n",
    "    means = means * (means > 0)  # negative activities are not captured\n",
    "    sds = npr.random(size=n_genotypes) * 10\n",
    "    num_measurements = npr.randint(low=n_reps_low, high=n_reps_high, size=n_genotypes)\n",
    "\n",
    "    # Create simulated data.\n",
    "    data = []\n",
    "    indices = []\n",
    "\n",
    "    for i in range(n_genotypes):\n",
    "        n = num_measurements[i]\n",
    "        mean = means[i]\n",
    "        sd = sds[i]\n",
    "\n",
    "        measurements = npr.normal(loc=mean, scale=sd, size=n)\n",
    "        # print(measurements)\n",
    "        measurements = measurements * (measurements > 0)\n",
    "        # print(measurements)\n",
    "\n",
    "        data.extend(measurements.tolist())\n",
    "        indices.extend([i] * n)\n",
    "\n",
    "    # Add baseline measurements (bl_measures)\n",
    "    n_bl_measures = n_reps_high - 1\n",
    "    bl_measures = npr.normal(loc=1.0, scale=0.1, size=n_bl_measures)\n",
    "    bl_measures = bl_measures * (bl_measures > 0)\n",
    "    data.extend(bl_measures)\n",
    "    indices.extend([n_genotypes] * n_bl_measures)\n",
    "    num_measurements = np.append(num_measurements, n_bl_measures)\n",
    "    means = np.append(means, bl_measures.mean())\n",
    "    sds = np.append(sds, bl_measures.std())\n",
    "\n",
    "    # Add pos_ctrl measurements (pc_measures)\n",
    "    n_pc_measures = n_reps_high - 1\n",
    "    pc_measures = npr.normal(loc=20.0, scale=1, size=n_pc_measures)\n",
    "    pc_measures = pc_measures * (pc_measures > 0)\n",
    "    data.extend(pc_measures)\n",
    "    indices.extend([n_genotypes + 1] * n_pc_measures)\n",
    "    num_measurements = np.append(num_measurements, n_pc_measures)\n",
    "    means = np.append(means, pc_measures.mean())\n",
    "    sds = np.append(sds, pc_measures.std())\n",
    "\n",
    "    # convert indices to a numpy array\n",
    "    indices = np.array(indices)\n",
    "\n",
    "    return data, indices, num_measurements, means, sds,"
   ]
  },
  {
   "cell_type": "code",
   "execution_count": 181,
   "metadata": {
    "collapsed": false
   },
   "outputs": [],
   "source": [
    "# Set n_genotypes > 1000 to obtain estimates of variance in error as a function of num_measurements\n",
    "# Set n_genotypes < 15 to obtain diagnostic plots (traceplot) and comparison of modelled to actual.\n",
    "# You've been forewarned - for the diagnostics and modelled, plotting with > 100 takes a while...\n",
    "n_genotypes = 5000\n",
    "n_reps_low = 2\n",
    "n_reps_high = 11\n",
    "\n",
    "sim_data = make_simulated_data(n_genotypes=n_genotypes, n_reps_low=n_reps_low, n_reps_high=n_reps_high)\n",
    "data, indices, num_measurements, means, sds = sim_data"
   ]
  },
  {
   "cell_type": "code",
   "execution_count": 182,
   "metadata": {
    "collapsed": false
   },
   "outputs": [
    {
     "data": {
      "text/plain": [
       "0.88014774506883442"
      ]
     },
     "execution_count": 182,
     "metadata": {},
     "output_type": "execute_result"
    }
   ],
   "source": [
    "# Compute the \"actual\" Z'-factor for the assay.\n",
    "zp_det = 1 - (3 * sds[-2] + 3 * sds[-1]) / np.abs(means[-2] - means[-1])\n",
    "zp_det"
   ]
  },
  {
   "cell_type": "code",
   "execution_count": 183,
   "metadata": {
    "collapsed": false
   },
   "outputs": [
    {
     "name": "stdout",
     "output_type": "stream",
     "text": [
      "Applied log-transform to upper and added transformed upper_log_ to model.\n",
      "Applied interval-transform to fold and added transformed fold_interval_ to model.\n",
      "Applied log-transform to sigma and added transformed sigma_log_ to model.\n"
     ]
    }
   ],
   "source": [
    "model = make_model(n_genotypes, data, indices)"
   ]
  },
  {
   "cell_type": "code",
   "execution_count": 184,
   "metadata": {
    "collapsed": false,
    "scrolled": true
   },
   "outputs": [
    {
     "name": "stdout",
     "output_type": "stream",
     "text": [
      "Iteration 0 [0%]: ELBO = -185166561.25\n",
      "Iteration 30000 [10%]: Average ELBO = -14241538.92\n",
      "Iteration 60000 [20%]: Average ELBO = -109022.01\n",
      "Iteration 90000 [30%]: Average ELBO = -105705.16\n",
      "Iteration 120000 [40%]: Average ELBO = -105039.61\n",
      "Iteration 150000 [50%]: Average ELBO = -104903.24\n",
      "Iteration 180000 [60%]: Average ELBO = -104876.85\n",
      "Iteration 210000 [70%]: Average ELBO = -104868.52\n",
      "Iteration 240000 [80%]: Average ELBO = -104865.55\n",
      "Iteration 270000 [90%]: Average ELBO = -104862.61\n",
      "Finished [100%]: Average ELBO = -104862.55\n",
      "CPU times: user 17min 26s, sys: 9.36 s, total: 17min 36s\n",
      "Wall time: 43min 1s\n"
     ]
    }
   ],
   "source": [
    "%%time\n",
    "trace = sample_model(model, n_genotypes)"
   ]
  },
  {
   "cell_type": "code",
   "execution_count": 185,
   "metadata": {
    "collapsed": false,
    "scrolled": false
   },
   "outputs": [],
   "source": [
    "if n_genotypes <= 15:\n",
    "    plot_forestplots(trace)"
   ]
  },
  {
   "cell_type": "code",
   "execution_count": 186,
   "metadata": {
    "collapsed": false
   },
   "outputs": [],
   "source": [
    "if n_genotypes <= 15:\n",
    "    pm.forestplot(trace, varnames=['z_factor', 'zp_factor'], vline=0.5)\n",
    "    plt.xlim(-1, 1)\n",
    "    plt.savefig('../figures/z-factor_sim.pdf', bbox_inches='tight')"
   ]
  },
  {
   "cell_type": "code",
   "execution_count": 187,
   "metadata": {
    "collapsed": false
   },
   "outputs": [],
   "source": [
    "if n_genotypes <= 15:\n",
    "    pm.forestplot(trace, varnames=['fold'])\n",
    "    plt.savefig('../figures/foldchange.pdf', bbox_inches='tight')"
   ]
  },
  {
   "cell_type": "code",
   "execution_count": 188,
   "metadata": {
    "collapsed": false
   },
   "outputs": [],
   "source": [
    "if n_genotypes <= 15:\n",
    "    pm.forestplot(trace, varnames=['sigma'])\n",
    "    plt.savefig('../figures/sigma.pdf', bbox_inches='tight')"
   ]
  },
  {
   "cell_type": "code",
   "execution_count": 189,
   "metadata": {
    "collapsed": false
   },
   "outputs": [],
   "source": [
    "if n_genotypes <= 15:\n",
    "    pm.forestplot(trace, varnames=['fold_changes'])\n",
    "    plt.savefig('../figures/fold_changes.pdf', bbox_inches='tight')"
   ]
  },
  {
   "cell_type": "code",
   "execution_count": 190,
   "metadata": {
    "collapsed": false,
    "scrolled": false
   },
   "outputs": [],
   "source": [
    "if n_genotypes <= 15:\n",
    "    pm.summary(trace)"
   ]
  },
  {
   "cell_type": "code",
   "execution_count": 191,
   "metadata": {
    "collapsed": false,
    "scrolled": false
   },
   "outputs": [],
   "source": [
    "if n_genotypes <= 15:\n",
    "    pm.traceplot(trace)"
   ]
  },
  {
   "cell_type": "markdown",
   "metadata": {},
   "source": [
    "# Error in Estimated Mean\n",
    "\n",
    "What is the error in estimated mean as a function of the number of measurements?"
   ]
  },
  {
   "cell_type": "code",
   "execution_count": 192,
   "metadata": {
    "collapsed": false
   },
   "outputs": [
    {
     "data": {
      "text/plain": [
       "array([ 6,  6,  9, ...,  9, 10, 10])"
      ]
     },
     "execution_count": 192,
     "metadata": {},
     "output_type": "execute_result"
    }
   ],
   "source": [
    "num_measurements"
   ]
  },
  {
   "cell_type": "code",
   "execution_count": 193,
   "metadata": {
    "collapsed": false
   },
   "outputs": [
    {
     "data": {
      "text/plain": [
       "array([ 1.59722785, -0.47137648, -0.59695812, ..., -1.35900504,\n",
       "       -0.00202013,  0.00186922])"
      ]
     },
     "execution_count": 193,
     "metadata": {},
     "output_type": "execute_result"
    }
   ],
   "source": [
    "trace['fold'].mean(axis=0) - means"
   ]
  },
  {
   "cell_type": "code",
   "execution_count": 194,
   "metadata": {
    "collapsed": false
   },
   "outputs": [
    {
     "data": {
      "text/html": [
       "<div>\n",
       "<table border=\"1\" class=\"dataframe\">\n",
       "  <thead>\n",
       "    <tr style=\"text-align: right;\">\n",
       "      <th></th>\n",
       "      <th>num_measurements</th>\n",
       "      <th>error_means</th>\n",
       "    </tr>\n",
       "  </thead>\n",
       "  <tbody>\n",
       "    <tr>\n",
       "      <th>0</th>\n",
       "      <td>6.0</td>\n",
       "      <td>1.597228</td>\n",
       "    </tr>\n",
       "    <tr>\n",
       "      <th>1</th>\n",
       "      <td>6.0</td>\n",
       "      <td>-0.471376</td>\n",
       "    </tr>\n",
       "    <tr>\n",
       "      <th>2</th>\n",
       "      <td>9.0</td>\n",
       "      <td>-0.596958</td>\n",
       "    </tr>\n",
       "    <tr>\n",
       "      <th>3</th>\n",
       "      <td>7.0</td>\n",
       "      <td>3.186098</td>\n",
       "    </tr>\n",
       "    <tr>\n",
       "      <th>4</th>\n",
       "      <td>10.0</td>\n",
       "      <td>2.688218</td>\n",
       "    </tr>\n",
       "  </tbody>\n",
       "</table>\n",
       "</div>"
      ],
      "text/plain": [
       "   num_measurements  error_means\n",
       "0               6.0     1.597228\n",
       "1               6.0    -0.471376\n",
       "2               9.0    -0.596958\n",
       "3               7.0     3.186098\n",
       "4              10.0     2.688218"
      ]
     },
     "execution_count": 194,
     "metadata": {},
     "output_type": "execute_result"
    }
   ],
   "source": [
    "import pandas as pd\n",
    "errors_df = pd.DataFrame([num_measurements, (trace['fold'].mean(axis=0) - means)]).T\n",
    "errors_df.columns = ['num_measurements', 'error_means']\n",
    "errors_df.head()"
   ]
  },
  {
   "cell_type": "code",
   "execution_count": 195,
   "metadata": {
    "collapsed": false
   },
   "outputs": [
    {
     "data": {
      "image/png": "[encoded data removed]",
      "text/plain": [
       "<matplotlib.figure.Figure at 0x12a9c9908>"
      ]
     },
     "metadata": {},
     "output_type": "display_data"
    },
    {
     "data": {
      "image/png": "[encoded data removed]",
      "text/plain": [
       "<matplotlib.figure.Figure at 0x12226d4e0>"
      ]
     },
     "metadata": {},
     "output_type": "display_data"
    }
   ],
   "source": [
    "if n_genotypes >= 500 and n_reps_high - n_reps_low > 1:\n",
    "    sns.boxplot(data=errors_df, x='num_measurements', y='error_means')\n",
    "    ax = plt.gca()\n",
    "    labels = ax.get_xticklabels()\n",
    "    # plt.xticks(x=sorted(list(set(errors_df['num_measurements']))), )\n",
    "    plt.xticks(rotation=90)\n",
    "    plt.ylabel('Error in Fold Change')\n",
    "    plt.xlabel('Num. Measurements')\n",
    "    plt.savefig('../figures/error-means.pdf', bbox_inches='tight')\n",
    "    \n",
    "    errors_df.groupby('num_measurements').var().plot(legend=False)\n",
    "    plt.ylabel('Variance in Error')\n",
    "    plt.xlabel('Num. Measurements')\n",
    "    plt.savefig('../figures/var-error-means.pdf', bbox_inches='tight')"
   ]
  },
  {
   "cell_type": "code",
   "execution_count": 196,
   "metadata": {
    "collapsed": false
   },
   "outputs": [
    {
     "data": {
      "text/plain": [
       "-0.013793103894467244"
      ]
     },
     "execution_count": 196,
     "metadata": {},
     "output_type": "execute_result"
    }
   ],
   "source": [
    "(trace['fold'].mean(axis=0) - means).mean()"
   ]
  },
  {
   "cell_type": "code",
   "execution_count": 197,
   "metadata": {
    "collapsed": false
   },
   "outputs": [],
   "source": [
    "if n_genotypes <= 15:\n",
    "    plt.figure()\n",
    "    pm.traceplot(trace, varnames=['fold'])\n",
    "    plt.figure()"
   ]
  },
  {
   "cell_type": "markdown",
   "metadata": {},
   "source": [
    "# Compare modelled to actual"
   ]
  },
  {
   "cell_type": "code",
   "execution_count": 198,
   "metadata": {
    "collapsed": false
   },
   "outputs": [
    {
     "data": {
      "text/plain": [
       "array([ 89.59722785,  41.52862352,  43.40304188, ...,  84.64099496,\n",
       "         1.00304868,  19.5951909 ])"
      ]
     },
     "execution_count": 198,
     "metadata": {},
     "output_type": "execute_result"
    }
   ],
   "source": [
    "trace['fold'].mean(axis=0)"
   ]
  },
  {
   "cell_type": "code",
   "execution_count": 199,
   "metadata": {
    "collapsed": false
   },
   "outputs": [
    {
     "data": {
      "text/plain": [
       "(5002,)"
      ]
     },
     "execution_count": 199,
     "metadata": {},
     "output_type": "execute_result"
    }
   ],
   "source": [
    "trace['fold'].mean(axis=0).shape"
   ]
  },
  {
   "cell_type": "code",
   "execution_count": 200,
   "metadata": {
    "collapsed": false
   },
   "outputs": [
    {
     "data": {
      "text/plain": [
       "(5002,)"
      ]
     },
     "execution_count": 200,
     "metadata": {},
     "output_type": "execute_result"
    }
   ],
   "source": [
    "np.arange(1, n_genotypes+3).shape"
   ]
  },
  {
   "cell_type": "code",
   "execution_count": 201,
   "metadata": {
    "collapsed": false
   },
   "outputs": [],
   "source": [
    "if n_genotypes <= 15:\n",
    "    fig = plt.figure()\n",
    "    ax = fig.add_subplot(111)\n",
    "    lower = trace['fold'].mean(axis=0) - np.percentile(trace['fold'], 2.5, axis=0)\n",
    "    upper = np.percentile(trace['fold'], 97.5, axis=0) - trace['fold'].mean(axis=0)\n",
    "    yerr_pos = [lower, upper]\n",
    "    ax.errorbar(x=np.arange(1, n_genotypes+3), y=trace['fold'].mean(axis=0), \n",
    "                # y-error bars\n",
    "                yerr=yerr_pos,\n",
    "                # styling\n",
    "                color='blue', ls='none', alpha=0.5, label='modeled',)\n",
    "    ax.scatter(x=np.arange(1, n_genotypes+3), y=means, \n",
    "               # styling\n",
    "               color=['red'] * (n_genotypes) + ['green'] + ['blue'], marker='o', s=100, label='true mean',)\n",
    "    ax.errorbar(x=np.arange(1, n_genotypes+3), y=means,\n",
    "               yerr=sds,\n",
    "               color='red', ls='none', alpha=0.5, label='true var')\n",
    "    ax.legend(loc='upper left', frameon=False)\n",
    "    ax.hlines(xmin=0, xmax=n_genotypes+3, y=trace['fold'].mean(axis=0)[-2], linestyles='--', alpha=0.2)\n",
    "    ax.hlines(xmin=0, xmax=n_genotypes+3, y=trace['fold'].mean(axis=0)[-1], alpha=0.2)\n",
    "    ax.set_xlabel('genotype ID')\n",
    "    ax.set_ylabel('fold change')\n",
    "    # ax.set_xlim(, n_genotypes+2)"
   ]
  },
  {
   "cell_type": "code",
   "execution_count": 202,
   "metadata": {
    "collapsed": false
   },
   "outputs": [
    {
     "name": "stdout",
     "output_type": "stream",
     "text": [
      "just for checking the above plot...\n"
     ]
    }
   ],
   "source": [
    "if n_genotypes <= 15:\n",
    "    fig = plt.figure()\n",
    "    pm.forestplot(trace, vline=1, varnames=['fold'])\n",
    "print('just for checking the above plot...')"
   ]
  },
  {
   "cell_type": "markdown",
   "metadata": {},
   "source": [
    "## How often is the true mean inside the 95% HPD?"
   ]
  },
  {
   "cell_type": "code",
   "execution_count": 203,
   "metadata": {
    "collapsed": false
   },
   "outputs": [
    {
     "data": {
      "text/plain": [
       "(array([ 87.88246089,  40.70223662,  40.52146279, ...,  79.94414251,\n",
       "          0.94446877,  19.10401627]),\n",
       " array([ 91.05025255,  42.36330143,  46.36997249, ...,  88.43486694,\n",
       "          1.06543799,  20.09424461]))"
      ]
     },
     "execution_count": 203,
     "metadata": {},
     "output_type": "execute_result"
    }
   ],
   "source": [
    "lower, upper = np.percentile(trace['fold'], [2.5, 97.5], axis=0)\n",
    "lower, upper"
   ]
  },
  {
   "cell_type": "code",
   "execution_count": 204,
   "metadata": {
    "collapsed": false
   },
   "outputs": [
    {
     "data": {
      "text/plain": [
       "array([ 88.        ,  42.        ,  44.        , ...,  86.        ,\n",
       "         1.00506881,  19.59332167])"
      ]
     },
     "execution_count": 204,
     "metadata": {},
     "output_type": "execute_result"
    }
   ],
   "source": [
    "means"
   ]
  },
  {
   "cell_type": "code",
   "execution_count": 205,
   "metadata": {
    "collapsed": false
   },
   "outputs": [
    {
     "data": {
      "text/plain": [
       "0.88564574170331867"
      ]
     },
     "execution_count": 205,
     "metadata": {},
     "output_type": "execute_result"
    }
   ],
   "source": [
    "# Here is the fraction of means that have been correctly included within the 95% HPD.\n",
    "sum((means > lower) *  (means < upper)) / len(means)"
   ]
  },
  {
   "cell_type": "markdown",
   "metadata": {
    "collapsed": true
   },
   "source": [
    "## What is the distribution of SEM vs. 95% CI vs. Bayesian 95% HPD?"
   ]
  },
  {
   "cell_type": "code",
   "execution_count": 206,
   "metadata": {
    "collapsed": false
   },
   "outputs": [],
   "source": [
    "if n_genotypes >= 500 and n_reps_high - n_reps_low == 1:\n",
    "    df = pd.DataFrame()\n",
    "    df['measurements'] = data\n",
    "    df['indices'] = indices\n",
    "    df.groupby('indices').std()\n",
    "\n",
    "    errorbars = pd.DataFrame()\n",
    "    errorbars['SEM'] = 2 * df.groupby('indices').std()['measurements'] / np.sqrt(num_measurements)\n",
    "    errorbars['Frequentist'] = 1.96 * errorbars['SEM']\n",
    "    errorbars['Bayesian'] = upper - lower\n",
    "    errorbars['Data'] = df.groupby('indices')['measurements'].max() - df.groupby('indices')['measurements'].min()\n",
    "    # errorbars['Data'] = df.groupby('indices')['measurements'].var\n",
    "\n",
    "    alpha = 0.4\n",
    "    fig = plt.figure(figsize=(8,8))\n",
    "    ax = fig.add_subplot(111)\n",
    "    # ax.set_aspect('equal')\n",
    "    ax.scatter(x=errorbars['Data'], y=errorbars['Frequentist'], color='red', label='Frequentist 95% CI', alpha=alpha)\n",
    "    ax.scatter(x=errorbars['Data'], y=errorbars['Bayesian'], color='blue', label='Bayesian 95% CI', alpha=alpha)\n",
    "    ax.scatter(x=errorbars['Data'], y=errorbars['SEM'], color='green', label='Std. Err. Mean', alpha=alpha)\n",
    "\n",
    "    lims = [\n",
    "        0,  # min of both axes\n",
    "        np.max([ax.get_xlim(), ax.get_ylim()]) - 10,  # max of both axes\n",
    "    ]\n",
    "\n",
    "    # now plot both limits against eachother\n",
    "    ax.plot(lims, lims, 'k--', alpha=0.75, zorder=0)\n",
    "    ax.legend(loc='upper left')\n",
    "    ax.set_ylabel('Interval Width')\n",
    "    ax.set_xlabel('Data Range (Max - Min)')\n",
    "    plt.savefig('../figures/simulation-range-estimates.pdf', bbox_inches='tight')"
   ]
  },
  {
   "cell_type": "code",
   "execution_count": null,
   "metadata": {
    "collapsed": true
   },
   "outputs": [],
   "source": []
  }
 ],
 "metadata": {
  "anaconda-cloud": {},
  "kernelspec": {
   "display_name": "Python [Root]",
   "language": "python",
   "name": "Python [Root]"
  },
  "language_info": {
   "codemirror_mode": {
    "name": "ipython",
    "version": 3
   },
   "file_extension": ".py",
   "mimetype": "text/x-python",
   "name": "python",
   "nbconvert_exporter": "python",
   "pygments_lexer": "ipython3",
   "version": "3.5.2"
  }
 },
 "nbformat": 4,
 "nbformat_minor": 0
}
